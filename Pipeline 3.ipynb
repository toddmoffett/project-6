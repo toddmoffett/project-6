{
 "cells": [
  {
   "cell_type": "code",
   "execution_count": 1,
   "metadata": {
    "collapsed": true
   },
   "outputs": [],
   "source": [
    "from IPython.display import display\n",
    "import yaml\n",
    "import lib.database_module as db\n",
    "import lib.encoding_module as enc\n",
    "import lib.wiki_module as wiki\n",
    "import pandas as pd"
   ]
  },
  {
   "cell_type": "markdown",
   "metadata": {},
   "source": [
    "### Mine: Select document vectors for all pages from database"
   ]
  },
  {
   "cell_type": "code",
   "execution_count": null,
   "metadata": {
    "collapsed": true
   },
   "outputs": [],
   "source": [
    "con, cur = db.connect_to_postgres()"
   ]
  },
  {
   "cell_type": "code",
   "execution_count": null,
   "metadata": {
    "collapsed": true
   },
   "outputs": [],
   "source": [
    "page_vectors = db.select_all_page_vectors()\n",
    "indices = [tup[0] for tup in page_vectors]\n",
    "vectors = [tup[1] for tup in page_vectors]"
   ]
  },
  {
   "cell_type": "code",
   "execution_count": 15,
   "metadata": {
    "collapsed": false,
    "scrolled": true
   },
   "outputs": [
    {
     "data": {
      "text/html": [
       "<div>\n",
       "<table border=\"1\" class=\"dataframe\">\n",
       "  <thead>\n",
       "    <tr style=\"text-align: right;\">\n",
       "      <th></th>\n",
       "      <th>0</th>\n",
       "      <th>1</th>\n",
       "      <th>2</th>\n",
       "      <th>3</th>\n",
       "      <th>4</th>\n",
       "      <th>5</th>\n",
       "      <th>6</th>\n",
       "      <th>7</th>\n",
       "      <th>8</th>\n",
       "      <th>9</th>\n",
       "      <th>...</th>\n",
       "      <th>490</th>\n",
       "      <th>491</th>\n",
       "      <th>492</th>\n",
       "      <th>493</th>\n",
       "      <th>494</th>\n",
       "      <th>495</th>\n",
       "      <th>496</th>\n",
       "      <th>497</th>\n",
       "      <th>498</th>\n",
       "      <th>499</th>\n",
       "    </tr>\n",
       "  </thead>\n",
       "  <tbody>\n",
       "    <tr>\n",
       "      <th>4341789</th>\n",
       "      <td>0.092992</td>\n",
       "      <td>-0.040985</td>\n",
       "      <td>0.006952</td>\n",
       "      <td>0.000243</td>\n",
       "      <td>0.001681</td>\n",
       "      <td>0.004999</td>\n",
       "      <td>0.003430</td>\n",
       "      <td>0.003523</td>\n",
       "      <td>-0.005129</td>\n",
       "      <td>-0.001911</td>\n",
       "      <td>...</td>\n",
       "      <td>-0.021003</td>\n",
       "      <td>-0.039528</td>\n",
       "      <td>0.027716</td>\n",
       "      <td>0.021033</td>\n",
       "      <td>-0.034768</td>\n",
       "      <td>-0.022294</td>\n",
       "      <td>0.031537</td>\n",
       "      <td>-0.009710</td>\n",
       "      <td>-0.010331</td>\n",
       "      <td>0.025944</td>\n",
       "    </tr>\n",
       "    <tr>\n",
       "      <th>48201744</th>\n",
       "      <td>0.021301</td>\n",
       "      <td>0.027559</td>\n",
       "      <td>-0.003917</td>\n",
       "      <td>-0.010877</td>\n",
       "      <td>0.013055</td>\n",
       "      <td>0.000934</td>\n",
       "      <td>0.000128</td>\n",
       "      <td>0.010317</td>\n",
       "      <td>0.001444</td>\n",
       "      <td>-0.009792</td>\n",
       "      <td>...</td>\n",
       "      <td>-0.055040</td>\n",
       "      <td>0.000110</td>\n",
       "      <td>0.057817</td>\n",
       "      <td>0.005156</td>\n",
       "      <td>0.058477</td>\n",
       "      <td>0.008807</td>\n",
       "      <td>0.043527</td>\n",
       "      <td>-0.011693</td>\n",
       "      <td>0.064738</td>\n",
       "      <td>0.051296</td>\n",
       "    </tr>\n",
       "    <tr>\n",
       "      <th>2514975</th>\n",
       "      <td>0.124983</td>\n",
       "      <td>0.153025</td>\n",
       "      <td>0.026264</td>\n",
       "      <td>-0.257191</td>\n",
       "      <td>-0.210183</td>\n",
       "      <td>0.074847</td>\n",
       "      <td>0.003862</td>\n",
       "      <td>-0.009666</td>\n",
       "      <td>-0.065705</td>\n",
       "      <td>-0.280972</td>\n",
       "      <td>...</td>\n",
       "      <td>-0.022703</td>\n",
       "      <td>0.015894</td>\n",
       "      <td>-0.002476</td>\n",
       "      <td>0.004992</td>\n",
       "      <td>-0.006653</td>\n",
       "      <td>-0.017394</td>\n",
       "      <td>-0.008525</td>\n",
       "      <td>0.017188</td>\n",
       "      <td>-0.001596</td>\n",
       "      <td>0.000120</td>\n",
       "    </tr>\n",
       "    <tr>\n",
       "      <th>35135520</th>\n",
       "      <td>0.191357</td>\n",
       "      <td>-0.039003</td>\n",
       "      <td>-0.006018</td>\n",
       "      <td>0.006389</td>\n",
       "      <td>-0.001106</td>\n",
       "      <td>-0.004748</td>\n",
       "      <td>0.015829</td>\n",
       "      <td>0.005612</td>\n",
       "      <td>0.011846</td>\n",
       "      <td>0.028248</td>\n",
       "      <td>...</td>\n",
       "      <td>0.000578</td>\n",
       "      <td>-0.004204</td>\n",
       "      <td>0.030916</td>\n",
       "      <td>0.010484</td>\n",
       "      <td>-0.012454</td>\n",
       "      <td>0.026050</td>\n",
       "      <td>0.038744</td>\n",
       "      <td>0.015332</td>\n",
       "      <td>-0.008053</td>\n",
       "      <td>0.009506</td>\n",
       "    </tr>\n",
       "    <tr>\n",
       "      <th>27303975</th>\n",
       "      <td>0.034292</td>\n",
       "      <td>0.039499</td>\n",
       "      <td>-0.006095</td>\n",
       "      <td>-0.015156</td>\n",
       "      <td>0.026112</td>\n",
       "      <td>-0.039749</td>\n",
       "      <td>-0.081440</td>\n",
       "      <td>-0.036546</td>\n",
       "      <td>0.005076</td>\n",
       "      <td>0.018881</td>\n",
       "      <td>...</td>\n",
       "      <td>0.030056</td>\n",
       "      <td>-0.026965</td>\n",
       "      <td>-0.002426</td>\n",
       "      <td>0.042282</td>\n",
       "      <td>0.024082</td>\n",
       "      <td>0.004498</td>\n",
       "      <td>-0.009517</td>\n",
       "      <td>-0.005315</td>\n",
       "      <td>-0.003784</td>\n",
       "      <td>-0.010202</td>\n",
       "    </tr>\n",
       "  </tbody>\n",
       "</table>\n",
       "<p>5 rows × 500 columns</p>\n",
       "</div>"
      ],
      "text/plain": [
       "               0         1         2         3         4         5    \\\n",
       "4341789   0.092992 -0.040985  0.006952  0.000243  0.001681  0.004999   \n",
       "48201744  0.021301  0.027559 -0.003917 -0.010877  0.013055  0.000934   \n",
       "2514975   0.124983  0.153025  0.026264 -0.257191 -0.210183  0.074847   \n",
       "35135520  0.191357 -0.039003 -0.006018  0.006389 -0.001106 -0.004748   \n",
       "27303975  0.034292  0.039499 -0.006095 -0.015156  0.026112 -0.039749   \n",
       "\n",
       "               6         7         8         9      ...          490  \\\n",
       "4341789   0.003430  0.003523 -0.005129 -0.001911    ...    -0.021003   \n",
       "48201744  0.000128  0.010317  0.001444 -0.009792    ...    -0.055040   \n",
       "2514975   0.003862 -0.009666 -0.065705 -0.280972    ...    -0.022703   \n",
       "35135520  0.015829  0.005612  0.011846  0.028248    ...     0.000578   \n",
       "27303975 -0.081440 -0.036546  0.005076  0.018881    ...     0.030056   \n",
       "\n",
       "               491       492       493       494       495       496  \\\n",
       "4341789  -0.039528  0.027716  0.021033 -0.034768 -0.022294  0.031537   \n",
       "48201744  0.000110  0.057817  0.005156  0.058477  0.008807  0.043527   \n",
       "2514975   0.015894 -0.002476  0.004992 -0.006653 -0.017394 -0.008525   \n",
       "35135520 -0.004204  0.030916  0.010484 -0.012454  0.026050  0.038744   \n",
       "27303975 -0.026965 -0.002426  0.042282  0.024082  0.004498 -0.009517   \n",
       "\n",
       "               497       498       499  \n",
       "4341789  -0.009710 -0.010331  0.025944  \n",
       "48201744 -0.011693  0.064738  0.051296  \n",
       "2514975   0.017188 -0.001596  0.000120  \n",
       "35135520  0.015332 -0.008053  0.009506  \n",
       "27303975 -0.005315 -0.003784 -0.010202  \n",
       "\n",
       "[5 rows x 500 columns]"
      ]
     },
     "execution_count": 15,
     "metadata": {},
     "output_type": "execute_result"
    }
   ],
   "source": [
    "page_vec = pd.DataFrame(vectors, index=indices)\n",
    "page_vec.head()"
   ]
  },
  {
   "cell_type": "code",
   "execution_count": null,
   "metadata": {
    "collapsed": true
   },
   "outputs": [],
   "source": []
  },
  {
   "cell_type": "markdown",
   "metadata": {},
   "source": [
    "### Mine: Select category ids corresponding to pages from database"
   ]
  },
  {
   "cell_type": "code",
   "execution_count": 23,
   "metadata": {
    "collapsed": false
   },
   "outputs": [
    {
     "name": "stdout",
     "output_type": "stream",
     "text": [
      "OK\n",
      "Connected to server joshuacook.me.\n"
     ]
    }
   ],
   "source": [
    "page_cats = db.execute_sql_statement('''SELECT * FROM page_cate''')"
   ]
  },
  {
   "cell_type": "code",
   "execution_count": 25,
   "metadata": {
    "collapsed": true
   },
   "outputs": [],
   "source": [
    "page_cats = pd.DataFrame(page_cats, columns=['page_id','category_id'])"
   ]
  },
  {
   "cell_type": "code",
   "execution_count": 28,
   "metadata": {
    "collapsed": false
   },
   "outputs": [
    {
     "data": {
      "text/html": [
       "<div>\n",
       "<table border=\"1\" class=\"dataframe\">\n",
       "  <thead>\n",
       "    <tr style=\"text-align: right;\">\n",
       "      <th></th>\n",
       "      <th>index</th>\n",
       "      <th>0</th>\n",
       "      <th>1</th>\n",
       "      <th>2</th>\n",
       "      <th>3</th>\n",
       "      <th>4</th>\n",
       "      <th>5</th>\n",
       "      <th>6</th>\n",
       "      <th>7</th>\n",
       "      <th>8</th>\n",
       "      <th>...</th>\n",
       "      <th>492</th>\n",
       "      <th>493</th>\n",
       "      <th>494</th>\n",
       "      <th>495</th>\n",
       "      <th>496</th>\n",
       "      <th>497</th>\n",
       "      <th>498</th>\n",
       "      <th>499</th>\n",
       "      <th>page_id</th>\n",
       "      <th>category_id</th>\n",
       "    </tr>\n",
       "  </thead>\n",
       "  <tbody>\n",
       "    <tr>\n",
       "      <th>0</th>\n",
       "      <td>4341789</td>\n",
       "      <td>0.092992</td>\n",
       "      <td>-0.040985</td>\n",
       "      <td>0.006952</td>\n",
       "      <td>0.000243</td>\n",
       "      <td>0.001681</td>\n",
       "      <td>0.004999</td>\n",
       "      <td>0.003430</td>\n",
       "      <td>0.003523</td>\n",
       "      <td>-0.005129</td>\n",
       "      <td>...</td>\n",
       "      <td>0.027716</td>\n",
       "      <td>0.021033</td>\n",
       "      <td>-0.034768</td>\n",
       "      <td>-0.022294</td>\n",
       "      <td>0.031537</td>\n",
       "      <td>-0.009710</td>\n",
       "      <td>-0.010331</td>\n",
       "      <td>0.025944</td>\n",
       "      <td>4341789</td>\n",
       "      <td>695196</td>\n",
       "    </tr>\n",
       "    <tr>\n",
       "      <th>1</th>\n",
       "      <td>48201744</td>\n",
       "      <td>0.021301</td>\n",
       "      <td>0.027559</td>\n",
       "      <td>-0.003917</td>\n",
       "      <td>-0.010877</td>\n",
       "      <td>0.013055</td>\n",
       "      <td>0.000934</td>\n",
       "      <td>0.000128</td>\n",
       "      <td>0.010317</td>\n",
       "      <td>0.001444</td>\n",
       "      <td>...</td>\n",
       "      <td>0.057817</td>\n",
       "      <td>0.005156</td>\n",
       "      <td>0.058477</td>\n",
       "      <td>0.008807</td>\n",
       "      <td>0.043527</td>\n",
       "      <td>-0.011693</td>\n",
       "      <td>0.064738</td>\n",
       "      <td>0.051296</td>\n",
       "      <td>48201744</td>\n",
       "      <td>716903</td>\n",
       "    </tr>\n",
       "    <tr>\n",
       "      <th>2</th>\n",
       "      <td>2514975</td>\n",
       "      <td>0.124983</td>\n",
       "      <td>0.153025</td>\n",
       "      <td>0.026264</td>\n",
       "      <td>-0.257191</td>\n",
       "      <td>-0.210183</td>\n",
       "      <td>0.074847</td>\n",
       "      <td>0.003862</td>\n",
       "      <td>-0.009666</td>\n",
       "      <td>-0.065705</td>\n",
       "      <td>...</td>\n",
       "      <td>-0.002476</td>\n",
       "      <td>0.004992</td>\n",
       "      <td>-0.006653</td>\n",
       "      <td>-0.017394</td>\n",
       "      <td>-0.008525</td>\n",
       "      <td>0.017188</td>\n",
       "      <td>-0.001596</td>\n",
       "      <td>0.000120</td>\n",
       "      <td>2514975</td>\n",
       "      <td>1489690</td>\n",
       "    </tr>\n",
       "    <tr>\n",
       "      <th>3</th>\n",
       "      <td>35135520</td>\n",
       "      <td>0.191357</td>\n",
       "      <td>-0.039003</td>\n",
       "      <td>-0.006018</td>\n",
       "      <td>0.006389</td>\n",
       "      <td>-0.001106</td>\n",
       "      <td>-0.004748</td>\n",
       "      <td>0.015829</td>\n",
       "      <td>0.005612</td>\n",
       "      <td>0.011846</td>\n",
       "      <td>...</td>\n",
       "      <td>0.030916</td>\n",
       "      <td>0.010484</td>\n",
       "      <td>-0.012454</td>\n",
       "      <td>0.026050</td>\n",
       "      <td>0.038744</td>\n",
       "      <td>0.015332</td>\n",
       "      <td>-0.008053</td>\n",
       "      <td>0.009506</td>\n",
       "      <td>35135520</td>\n",
       "      <td>695196</td>\n",
       "    </tr>\n",
       "    <tr>\n",
       "      <th>4</th>\n",
       "      <td>27303975</td>\n",
       "      <td>0.034292</td>\n",
       "      <td>0.039499</td>\n",
       "      <td>-0.006095</td>\n",
       "      <td>-0.015156</td>\n",
       "      <td>0.026112</td>\n",
       "      <td>-0.039749</td>\n",
       "      <td>-0.081440</td>\n",
       "      <td>-0.036546</td>\n",
       "      <td>0.005076</td>\n",
       "      <td>...</td>\n",
       "      <td>-0.002426</td>\n",
       "      <td>0.042282</td>\n",
       "      <td>0.024082</td>\n",
       "      <td>0.004498</td>\n",
       "      <td>-0.009517</td>\n",
       "      <td>-0.005315</td>\n",
       "      <td>-0.003784</td>\n",
       "      <td>-0.010202</td>\n",
       "      <td>27303975</td>\n",
       "      <td>34955640</td>\n",
       "    </tr>\n",
       "  </tbody>\n",
       "</table>\n",
       "<p>5 rows × 503 columns</p>\n",
       "</div>"
      ],
      "text/plain": [
       "      index         0         1         2         3         4         5  \\\n",
       "0   4341789  0.092992 -0.040985  0.006952  0.000243  0.001681  0.004999   \n",
       "1  48201744  0.021301  0.027559 -0.003917 -0.010877  0.013055  0.000934   \n",
       "2   2514975  0.124983  0.153025  0.026264 -0.257191 -0.210183  0.074847   \n",
       "3  35135520  0.191357 -0.039003 -0.006018  0.006389 -0.001106 -0.004748   \n",
       "4  27303975  0.034292  0.039499 -0.006095 -0.015156  0.026112 -0.039749   \n",
       "\n",
       "          6         7         8     ...            492       493       494  \\\n",
       "0  0.003430  0.003523 -0.005129     ...       0.027716  0.021033 -0.034768   \n",
       "1  0.000128  0.010317  0.001444     ...       0.057817  0.005156  0.058477   \n",
       "2  0.003862 -0.009666 -0.065705     ...      -0.002476  0.004992 -0.006653   \n",
       "3  0.015829  0.005612  0.011846     ...       0.030916  0.010484 -0.012454   \n",
       "4 -0.081440 -0.036546  0.005076     ...      -0.002426  0.042282  0.024082   \n",
       "\n",
       "        495       496       497       498       499   page_id  category_id  \n",
       "0 -0.022294  0.031537 -0.009710 -0.010331  0.025944   4341789       695196  \n",
       "1  0.008807  0.043527 -0.011693  0.064738  0.051296  48201744       716903  \n",
       "2 -0.017394 -0.008525  0.017188 -0.001596  0.000120   2514975      1489690  \n",
       "3  0.026050  0.038744  0.015332 -0.008053  0.009506  35135520       695196  \n",
       "4  0.004498 -0.009517 -0.005315 -0.003784 -0.010202  27303975     34955640  \n",
       "\n",
       "[5 rows x 503 columns]"
      ]
     },
     "execution_count": 28,
     "metadata": {},
     "output_type": "execute_result"
    }
   ],
   "source": [
    "joined_df = pd.merge(page_vec.reset_index(), page_cats, left_on='index', right_on='page_id')\n",
    "joined_df.head()"
   ]
  },
  {
   "cell_type": "markdown",
   "metadata": {},
   "source": [
    "### Refine: Create a data dictionary with training and testing sets\n",
    "\n",
    "Begin development using local dummy data."
   ]
  },
  {
   "cell_type": "code",
   "execution_count": 81,
   "metadata": {
    "collapsed": true
   },
   "outputs": [],
   "source": [
    "import pandas as pd"
   ]
  },
  {
   "cell_type": "code",
   "execution_count": 32,
   "metadata": {
    "collapsed": false
   },
   "outputs": [],
   "source": [
    "X = joined_df.drop(['category_id','index','page_id'], axis=1)\n",
    "y = joined_df['category_id']"
   ]
  },
  {
   "cell_type": "code",
   "execution_count": null,
   "metadata": {
    "collapsed": false
   },
   "outputs": [],
   "source": []
  },
  {
   "cell_type": "code",
   "execution_count": 34,
   "metadata": {
    "collapsed": true
   },
   "outputs": [],
   "source": [
    "from sklearn.model_selection import train_test_split"
   ]
  },
  {
   "cell_type": "code",
   "execution_count": 35,
   "metadata": {
    "collapsed": true
   },
   "outputs": [],
   "source": [
    "X_train, X_test, y_train, y_test = train_test_split(X, y, random_state=42)"
   ]
  },
  {
   "cell_type": "code",
   "execution_count": 36,
   "metadata": {
    "collapsed": false
   },
   "outputs": [],
   "source": [
    "data_dict = {'X': X,\n",
    "             'y': y,\n",
    "             'X_train': X_train,\n",
    "             'y_train': y_train,\n",
    "             'X_test': X_test,\n",
    "             'y_test': y_test \n",
    "}"
   ]
  },
  {
   "cell_type": "markdown",
   "metadata": {},
   "source": [
    "### Model: Fit, Score, and Tune a multi-label classification model"
   ]
  },
  {
   "cell_type": "code",
   "execution_count": 37,
   "metadata": {
    "collapsed": true
   },
   "outputs": [],
   "source": [
    "import numpy as np"
   ]
  },
  {
   "cell_type": "code",
   "execution_count": null,
   "metadata": {
    "collapsed": true
   },
   "outputs": [],
   "source": [
    "from sklearn.neighbors import KNeighborsClassifier"
   ]
  },
  {
   "cell_type": "code",
   "execution_count": 38,
   "metadata": {
    "collapsed": true
   },
   "outputs": [],
   "source": [
    "knn = KNeighborsClassifier()"
   ]
  },
  {
   "cell_type": "code",
   "execution_count": 47,
   "metadata": {
    "collapsed": false
   },
   "outputs": [],
   "source": [
    "y_train = np.ravel(y_train)"
   ]
  },
  {
   "cell_type": "code",
   "execution_count": 39,
   "metadata": {
    "collapsed": false
   },
   "outputs": [
    {
     "data": {
      "text/plain": [
       "(1788,)"
      ]
     },
     "execution_count": 39,
     "metadata": {},
     "output_type": "execute_result"
    }
   ],
   "source": [
    "y_train.shape"
   ]
  },
  {
   "cell_type": "code",
   "execution_count": 44,
   "metadata": {
    "collapsed": false
   },
   "outputs": [
    {
     "data": {
      "text/plain": [
       "(1788, 500)"
      ]
     },
     "execution_count": 44,
     "metadata": {},
     "output_type": "execute_result"
    }
   ],
   "source": [
    "X_train.shape"
   ]
  },
  {
   "cell_type": "code",
   "execution_count": 45,
   "metadata": {
    "collapsed": false,
    "scrolled": false
   },
   "outputs": [
    {
     "data": {
      "text/plain": [
       "KNeighborsClassifier(algorithm='auto', leaf_size=30, metric='minkowski',\n",
       "           metric_params=None, n_jobs=1, n_neighbors=5, p=2,\n",
       "           weights='uniform')"
      ]
     },
     "execution_count": 45,
     "metadata": {},
     "output_type": "execute_result"
    }
   ],
   "source": [
    "knn.fit(X_train,y_train)"
   ]
  },
  {
   "cell_type": "code",
   "execution_count": 46,
   "metadata": {
    "collapsed": false
   },
   "outputs": [
    {
     "data": {
      "text/plain": [
       "<bound method KNeighborsClassifier.score of KNeighborsClassifier(algorithm='auto', leaf_size=30, metric='minkowski',\n",
       "           metric_params=None, n_jobs=1, n_neighbors=5, p=2,\n",
       "           weights='uniform')>"
      ]
     },
     "execution_count": 46,
     "metadata": {},
     "output_type": "execute_result"
    }
   ],
   "source": [
    "knn.score"
   ]
  },
  {
   "cell_type": "code",
   "execution_count": 43,
   "metadata": {
    "collapsed": false
   },
   "outputs": [
    {
     "data": {
      "text/plain": [
       "<bound method KNeighborsClassifier.predict of KNeighborsClassifier(algorithm='auto', leaf_size=30, metric='minkowski',\n",
       "           metric_params=None, n_jobs=1, n_neighbors=5, p=2,\n",
       "           weights='uniform')>"
      ]
     },
     "execution_count": 43,
     "metadata": {},
     "output_type": "execute_result"
    }
   ],
   "source": [
    "knn.predict"
   ]
  },
  {
   "cell_type": "code",
   "execution_count": 47,
   "metadata": {
    "collapsed": true
   },
   "outputs": [],
   "source": [
    "from sklearn.naive_bayes import GaussianNB"
   ]
  },
  {
   "cell_type": "code",
   "execution_count": 48,
   "metadata": {
    "collapsed": true
   },
   "outputs": [],
   "source": [
    "this_nc = GaussianNB()"
   ]
  },
  {
   "cell_type": "code",
   "execution_count": 49,
   "metadata": {
    "collapsed": false
   },
   "outputs": [
    {
     "data": {
      "text/plain": [
       "GaussianNB(priors=None)"
      ]
     },
     "execution_count": 49,
     "metadata": {},
     "output_type": "execute_result"
    }
   ],
   "source": [
    "this_nc.fit(data_dict['X_train'], data_dict['y_train'])"
   ]
  },
  {
   "cell_type": "code",
   "execution_count": 50,
   "metadata": {
    "collapsed": false
   },
   "outputs": [],
   "source": [
    "this_nc_train_score = this_nc.score(data_dict['X_train'], data_dict['y_train'])\n",
    "this_nc_test_score = this_nc.score(data_dict['X_test'], data_dict['y_test'])"
   ]
  },
  {
   "cell_type": "code",
   "execution_count": 51,
   "metadata": {
    "collapsed": false
   },
   "outputs": [
    {
     "name": "stdout",
     "output_type": "stream",
     "text": [
      "Train: 0.878635346756 Test: 0.790268456376\n"
     ]
    }
   ],
   "source": [
    "print ('Train: {} Test: {}' .format(this_nc_train_score, this_nc_test_score))"
   ]
  },
  {
   "cell_type": "code",
   "execution_count": 52,
   "metadata": {
    "collapsed": true
   },
   "outputs": [],
   "source": [
    "from sklearn import tree"
   ]
  },
  {
   "cell_type": "code",
   "execution_count": 53,
   "metadata": {
    "collapsed": true
   },
   "outputs": [],
   "source": [
    "clf = tree.DecisionTreeClassifier()"
   ]
  },
  {
   "cell_type": "code",
   "execution_count": 54,
   "metadata": {
    "collapsed": false
   },
   "outputs": [
    {
     "data": {
      "text/plain": [
       "DecisionTreeClassifier(class_weight=None, criterion='gini', max_depth=None,\n",
       "            max_features=None, max_leaf_nodes=None,\n",
       "            min_impurity_split=1e-07, min_samples_leaf=1,\n",
       "            min_samples_split=2, min_weight_fraction_leaf=0.0,\n",
       "            presort=False, random_state=None, splitter='best')"
      ]
     },
     "execution_count": 54,
     "metadata": {},
     "output_type": "execute_result"
    }
   ],
   "source": [
    "clf.fit(data_dict['X_train'], data_dict['y_train'])"
   ]
  },
  {
   "cell_type": "code",
   "execution_count": 55,
   "metadata": {
    "collapsed": false
   },
   "outputs": [],
   "source": [
    "clf_train_score = clf.score(data_dict['X_train'], data_dict['y_train'])\n",
    "clf_test_score = clf.score(data_dict['X_test'], data_dict['y_test'])"
   ]
  },
  {
   "cell_type": "code",
   "execution_count": 56,
   "metadata": {
    "collapsed": false
   },
   "outputs": [
    {
     "name": "stdout",
     "output_type": "stream",
     "text": [
      "Train: 0.961968680089 Test: 0.827181208054\n"
     ]
    }
   ],
   "source": [
    "print ('Train: {} Test: {}' .format(clf_train_score, clf_test_score))"
   ]
  },
  {
   "cell_type": "markdown",
   "metadata": {},
   "source": [
    "### Present: Pickle tuned model for later use"
   ]
  },
  {
   "cell_type": "code",
   "execution_count": 57,
   "metadata": {
    "collapsed": true
   },
   "outputs": [],
   "source": [
    "from sklearn.externals import joblib"
   ]
  },
  {
   "cell_type": "code",
   "execution_count": 61,
   "metadata": {
    "collapsed": false
   },
   "outputs": [
    {
     "data": {
      "text/plain": [
       "['my_pickle_model.pickle']"
      ]
     },
     "execution_count": 61,
     "metadata": {},
     "output_type": "execute_result"
    }
   ],
   "source": [
    "joblib.dump(this_nc, 'my_pickle_model.pickle')"
   ]
  }
 ],
 "metadata": {
  "anaconda-cloud": {},
  "kernelspec": {
   "display_name": "Python [conda env:py27]",
   "language": "python",
   "name": "conda-env-py27-py"
  },
  "language_info": {
   "codemirror_mode": {
    "name": "ipython",
    "version": 2
   },
   "file_extension": ".py",
   "mimetype": "text/x-python",
   "name": "python",
   "nbconvert_exporter": "python",
   "pygments_lexer": "ipython2",
   "version": "2.7.12"
  }
 },
 "nbformat": 4,
 "nbformat_minor": 1
}
