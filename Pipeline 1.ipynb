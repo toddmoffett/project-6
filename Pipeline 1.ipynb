{
 "cells": [
  {
   "cell_type": "code",
   "execution_count": 1,
   "metadata": {
    "collapsed": false
   },
   "outputs": [],
   "source": [
    "from IPython.display import display\n",
    "import yaml\n",
    "import lib.database_module as db\n",
    "import lib.encoding_module as enc\n",
    "import lib.wiki_module as wiki\n",
    "import pandas as pd"
   ]
  },
  {
   "cell_type": "code",
   "execution_count": 2,
   "metadata": {
    "collapsed": true
   },
   "outputs": [],
   "source": [
    "base_url = \"https://en.wikipedia.org/w/api.php\""
   ]
  },
  {
   "cell_type": "markdown",
   "metadata": {},
   "source": [
    "### Acquire: Get categories to query from a yaml file"
   ]
  },
  {
   "cell_type": "code",
   "execution_count": 3,
   "metadata": {
    "collapsed": true
   },
   "outputs": [],
   "source": [
    "def download(yaml_file):\n",
    "\n",
    "    with open(yaml_file, 'r') as f:\n",
    "        dictionary = yaml.load(f)\n",
    "        \n",
    "    return dictionary"
   ]
  },
  {
   "cell_type": "code",
   "execution_count": 4,
   "metadata": {
    "collapsed": true
   },
   "outputs": [],
   "source": [
    "categories = download('categories.yaml')"
   ]
  },
  {
   "cell_type": "code",
   "execution_count": 5,
   "metadata": {
    "collapsed": false
   },
   "outputs": [
    {
     "data": {
      "text/plain": [
       "['shoes', 'physics', 'sports terminology']"
      ]
     },
     "execution_count": 5,
     "metadata": {},
     "output_type": "execute_result"
    }
   ],
   "source": [
    "categories['categories']"
   ]
  },
  {
   "cell_type": "code",
   "execution_count": 6,
   "metadata": {
    "collapsed": true
   },
   "outputs": [],
   "source": [
    "country = wiki.query_category('country')"
   ]
  },
  {
   "cell_type": "code",
   "execution_count": 7,
   "metadata": {
    "collapsed": false
   },
   "outputs": [
    {
     "data": {
      "text/plain": [
       "{'categoryid': '-1', 'pages': []}"
      ]
     },
     "execution_count": 7,
     "metadata": {},
     "output_type": "execute_result"
    }
   ],
   "source": [
    "country"
   ]
  },
  {
   "cell_type": "code",
   "execution_count": 8,
   "metadata": {
    "collapsed": false
   },
   "outputs": [],
   "source": [
    "shoes = wiki.query_category(categories['categories'][0])"
   ]
  },
  {
   "cell_type": "code",
   "execution_count": 9,
   "metadata": {
    "collapsed": true
   },
   "outputs": [],
   "source": [
    "physics = wiki.query_category(categories['categories'][1])"
   ]
  },
  {
   "cell_type": "code",
   "execution_count": 10,
   "metadata": {
    "collapsed": true
   },
   "outputs": [],
   "source": [
    "sports_term = wiki.query_category(categories['categories'][2])"
   ]
  },
  {
   "cell_type": "code",
   "execution_count": 11,
   "metadata": {
    "collapsed": false
   },
   "outputs": [
    {
     "data": {
      "text/plain": [
       "{'categoryid': '1489690',\n",
       " 'pages': [{'pageid': 3472397, 'title': 'Lactate threshold'},\n",
       "  {'pageid': 735121, 'title': 'All-star'},\n",
       "  {'pageid': 31638472, 'title': 'Arteriovenous oxygen difference'},\n",
       "  {'pageid': 4158437, 'title': 'Asian handicap'},\n",
       "  {'pageid': 154164, 'title': 'Athlete'},\n",
       "  {'pageid': 27496299, 'title': 'Athletics (physical culture)'},\n",
       "  {'pageid': 487940, 'title': 'Attacker'},\n",
       "  {'pageid': 36247003, 'title': 'Away colours'},\n",
       "  {'pageid': 3133119, 'title': \"Beginner's luck\"},\n",
       "  {'pageid': 5836436, 'title': 'Bench (metonymy)'},\n",
       "  {'pageid': 4363276, 'title': 'Bench-clearing brawl'},\n",
       "  {'pageid': 9607623, 'title': 'Benefit (sports)'},\n",
       "  {'pageid': 21785753, 'title': 'Big-ways'},\n",
       "  {'pageid': 3495354, 'title': 'Blackout (broadcasting)'},\n",
       "  {'pageid': 37133212, 'title': 'Blondes vs. Brunettes (charity event)'},\n",
       "  {'pageid': 11489708, 'title': 'Blue chip (sports)'},\n",
       "  {'pageid': 526648, 'title': 'Bronze medal'},\n",
       "  {'pageid': 4937455, 'title': 'Bye (sports)'},\n",
       "  {'pageid': 41668046, 'title': 'Cann table'},\n",
       "  {'pageid': 844283, 'title': 'Cantera'},\n",
       "  {'pageid': 3191695, 'title': 'Cap (sport)'},\n",
       "  {'pageid': 346821, 'title': 'Carbohydrate loading'},\n",
       "  {'pageid': 4070820, 'title': 'Card stunt'},\n",
       "  {'pageid': 37307060, 'title': 'Chronic training load'},\n",
       "  {'pageid': 3195183, 'title': 'Cinderella (sports)'},\n",
       "  {'pageid': 2049987, 'title': 'Club seating'},\n",
       "  {'pageid': 48423585, 'title': 'Comeback (sports)'},\n",
       "  {'pageid': 2947537, 'title': 'Contact sport'},\n",
       "  {'pageid': 30163958, 'title': 'Continental championship'},\n",
       "  {'pageid': 774201, 'title': 'Cooper test'},\n",
       "  {'pageid': 46453731, 'title': 'Crest (sports)'},\n",
       "  {'pageid': 4121912, 'title': 'Glossary of cue sports terms'},\n",
       "  {'pageid': 3539514, 'title': 'Dead rubber'},\n",
       "  {'pageid': 21250203, 'title': 'Debenture (sport)'},\n",
       "  {'pageid': 7509291, 'title': 'Depth chart'},\n",
       "  {'pageid': 2396171, 'title': 'Dispersal draft'},\n",
       "  {'pageid': 248295, 'title': 'Division (sport)'},\n",
       "  {'pageid': 616574, 'title': 'Draft (sports)'},\n",
       "  {'pageid': 10191869, 'title': 'Draft blunder'},\n",
       "  {'pageid': 30722684, 'title': 'Draft steal'},\n",
       "  {'pageid': 1531458, 'title': 'Drought (sport)'},\n",
       "  {'pageid': 2135232, 'title': 'List of sports dynasties'},\n",
       "  {'pageid': 735272, 'title': 'Elite Eight'},\n",
       "  {'pageid': 977090, 'title': 'Exhibition game'},\n",
       "  {'pageid': 1945737, 'title': 'Expansion team'},\n",
       "  {'pageid': 1441192, 'title': 'Falcon (sport)'},\n",
       "  {'pageid': 765082, 'title': 'Fight song'},\n",
       "  {'pageid': 8375856, 'title': 'Final (competition)'},\n",
       "  {'pageid': 8367801, 'title': 'Final four'},\n",
       "  {'pageid': 38393475, 'title': 'Forfeit (sport)'},\n",
       "  {'pageid': 19591974, 'title': 'Foul (sports)'},\n",
       "  {'pageid': 8136159, 'title': 'Franchise player'},\n",
       "  {'pageid': 27765900, 'title': 'Free substitution'},\n",
       "  {'pageid': 2514975, 'title': 'Games behind'},\n",
       "  {'pageid': 24120739, 'title': 'Give-and-go'},\n",
       "  {'pageid': 14488307, 'title': 'Glossary of archery terms'},\n",
       "  {'pageid': 34424395, 'title': 'Glossary of North American horse racing'},\n",
       "  {'pageid': 86314, 'title': 'Goalkeeper'},\n",
       "  {'pageid': 526488, 'title': 'Gold medal'},\n",
       "  {'pageid': 3715006, 'title': 'Grandfather rule'},\n",
       "  {'pageid': 7055656, 'title': 'Grind (sport)'},\n",
       "  {'pageid': 52652103, 'title': 'Handball goalkeeper'},\n",
       "  {'pageid': 1495803, 'title': 'Handicapping'},\n",
       "  {'pageid': 5168650, 'title': 'Hearties'},\n",
       "  {'pageid': 1937469, 'title': 'Hitting the wall'},\n",
       "  {'pageid': 23238167, 'title': 'Hospital pass'},\n",
       "  {'pageid': 4524265, 'title': 'Huddle'},\n",
       "  {'pageid': 13555214, 'title': 'Hungarian system'},\n",
       "  {'pageid': 3247833, 'title': 'Injured reserve list'},\n",
       "  {'pageid': 37780041, 'title': 'Iron man (sports streak)'},\n",
       "  {'pageid': 14613477, 'title': 'Line call'},\n",
       "  {'pageid': 18007329, 'title': 'List of karate terms'},\n",
       "  {'pageid': 1493579, 'title': 'List of sports terms named after people'},\n",
       "  {'pageid': 13092576,\n",
       "   'title': 'List of world cups and world championships for juniors and youth'},\n",
       "  {'pageid': 5204993, 'title': 'List of world sports championships'},\n",
       "  {'pageid': 8932630, 'title': 'Lucky loser'},\n",
       "  {'pageid': 906698, 'title': 'Man of the match'},\n",
       "  {'pageid': 14742913, 'title': 'Match penalty'},\n",
       "  {'pageid': 30498023, 'title': 'Mental toughness'},\n",
       "  {'pageid': 28695, 'title': 'Mercy rule'},\n",
       "  {'pageid': 5290295, 'title': 'Minor premiership'},\n",
       "  {'pageid': 3324082, 'title': 'Moral victory'},\n",
       "  {'pageid': 53900, 'title': 'Multi-sport event'},\n",
       "  {'pageid': 2032714, 'title': 'Nap hand'},\n",
       "  {'pageid': 17379274, 'title': 'National championship'},\n",
       "  {'pageid': 14966611, 'title': 'National Letter of Intent'},\n",
       "  {'pageid': 18360639, 'title': 'National sport'},\n",
       "  {'pageid': 8339716, 'title': 'No goal'},\n",
       "  {'pageid': 1742190, 'title': 'Offense (sports)'},\n",
       "  {'pageid': 14238921, 'title': 'Offer sheet'},\n",
       "  {'pageid': 50173642, 'title': 'On the Bubble'},\n",
       "  {'pageid': 6760905, 'title': 'One-game playoff'},\n",
       "  {'pageid': 2337918, 'title': 'Open (sport)'},\n",
       "  {'pageid': 4494157, 'title': 'Page playoff system'},\n",
       "  {'pageid': 4533566, 'title': 'Parity (sports)'},\n",
       "  {'pageid': 46979531, 'title': 'Peak power output'},\n",
       "  {'pageid': 2356756, 'title': 'Perfect season'},\n",
       "  {'pageid': 39292677, 'title': 'Personal record (sport)'},\n",
       "  {'pageid': 1732880, 'title': 'Personal seat license'},\n",
       "  {'pageid': 28018962, 'title': 'Pick-up game'},\n",
       "  {'pageid': 5921341, 'title': 'Pitch (sports field)'},\n",
       "  {'pageid': 4188995, 'title': 'Play-in game'},\n",
       "  {'pageid': 2847115, 'title': 'Playoff format'},\n",
       "  {'pageid': 5494437, 'title': 'Pocket schedule'},\n",
       "  {'pageid': 42458903, 'title': 'Podiuming'},\n",
       "  {'pageid': 22928159, 'title': 'Points percentage'},\n",
       "  {'pageid': 3897882, 'title': 'Powderpuff (sports)'},\n",
       "  {'pageid': 4028048, 'title': 'Press box'},\n",
       "  {'pageid': 25803412, 'title': 'Pro-am'},\n",
       "  {'pageid': 4496150, 'title': 'Professional sports league organization'},\n",
       "  {'pageid': 648049, 'title': 'Promotion and relegation'},\n",
       "  {'pageid': 5648365, 'title': 'Prospect (sports)'},\n",
       "  {'pageid': 47769908, 'title': 'Raw Run'},\n",
       "  {'pageid': 51606581, 'title': 'Raza point score system'},\n",
       "  {'pageid': 445677, 'title': 'Realignment (sports)'},\n",
       "  {'pageid': 2912396, 'title': 'Rebound (sports)'},\n",
       "  {'pageid': 3882910, 'title': 'Redshirt (college sports)'},\n",
       "  {'pageid': 12422239, 'title': 'Replay (sports)'},\n",
       "  {'pageid': 1980611, 'title': 'Representative side'},\n",
       "  {'pageid': 9641900, 'title': 'Restricted free agent'},\n",
       "  {'pageid': 9532306, 'title': 'Ring announcer'},\n",
       "  {'pageid': 472164, 'title': 'Riseball'},\n",
       "  {'pageid': 10301769, 'title': 'Running economy'},\n",
       "  {'pageid': 6836777, 'title': 'Safeword (sports)'},\n",
       "  {'pageid': 30879795, 'title': 'Scratch team'},\n",
       "  {'pageid': 16876591, 'title': 'Selector (sport)'},\n",
       "  {'pageid': 1102335, 'title': 'Semi-professional'},\n",
       "  {'pageid': 1463429, 'title': 'Serpentine system'},\n",
       "  {'pageid': 322192, 'title': 'Free agent'},\n",
       "  {'pageid': 19898520, 'title': 'Shaughnessy playoff system'},\n",
       "  {'pageid': 5457111, 'title': 'Shirts versus skins'},\n",
       "  {'pageid': 526647, 'title': 'Silver medal'},\n",
       "  {'pageid': 11072011, 'title': 'Sinclair Coefficients'},\n",
       "  {'pageid': 4408817, 'title': 'Singapi'},\n",
       "  {'pageid': 31696946, 'title': 'Sociedad Anonima Deportiva'},\n",
       "  {'pageid': 32840753, 'title': 'Sociedade Anonima Desportiva'},\n",
       "  {'pageid': 537639, 'title': 'Sporting colours'},\n",
       "  {'pageid': 399626, 'title': 'Sports card'},\n",
       "  {'pageid': 4532299, 'title': 'Sports club'},\n",
       "  {'pageid': 1662121, 'title': 'Sports commentator'},\n",
       "  {'pageid': 5791134, 'title': 'Sports fan'},\n",
       "  {'pageid': 26697252, 'title': 'Sports festival'},\n",
       "  {'pageid': 685328, 'title': 'Sports league'},\n",
       "  {'pageid': 2576109, 'title': 'Sports rating system'},\n",
       "  {'pageid': 19556861, 'title': 'Sports ticket derivative'},\n",
       "  {'pageid': 1432555, 'title': 'Stadium anthem'},\n",
       "  {'pageid': 857511, 'title': 'Standings'},\n",
       "  {'pageid': 3779045, 'title': 'Stat padding'},\n",
       "  {'pageid': 11706234,\n",
       "   'title': 'Status lists of players in professional sports'},\n",
       "  {'pageid': 44269077, 'title': 'Submaximal performance testing'},\n",
       "  {'pageid': 17287389, 'title': 'Substitution (sport)'},\n",
       "  {'pageid': 29192052, 'title': 'Sucker tracks'},\n",
       "  {'pageid': 30792221, 'title': 'Sweet spot (sports)'},\n",
       "  {'pageid': 988407, 'title': 'Team sport'},\n",
       "  {'pageid': 18958780, 'title': 'Technical time-out (volleyball)'},\n",
       "  {'pageid': 4902404, 'title': 'Telegraphing (sports)'},\n",
       "  {'pageid': 382550, 'title': 'Third jersey'},\n",
       "  {'pageid': 5475710, 'title': 'Third place playoff'},\n",
       "  {'pageid': 4960100, 'title': 'Three points for a win'},\n",
       "  {'pageid': 345955, 'title': 'Three-peat'},\n",
       "  {'pageid': 1436515, 'title': 'Throwback uniform'},\n",
       "  {'pageid': 3013373, 'title': 'Tiebreaker'},\n",
       "  {'pageid': 19851994, 'title': 'Trade (sports)'},\n",
       "  {'pageid': 2521682, 'title': 'Training effect'},\n",
       "  {'pageid': 1267251, 'title': 'Trampolining terms'},\n",
       "  {'pageid': 17146605, 'title': 'Traveling team'},\n",
       "  {'pageid': 1170065, 'title': 'Underdog (term)'},\n",
       "  {'pageid': 378959, 'title': 'Varsity letter'},\n",
       "  {'pageid': 567655, 'title': 'Varsity team'},\n",
       "  {'pageid': 889745, 'title': 'Vert (sport)'},\n",
       "  {'pageid': 968834, 'title': 'VO2 max'},\n",
       "  {'pageid': 5051251, 'title': 'Walkover'},\n",
       "  {'pageid': 8830995, 'title': 'Whitewash (sport)'},\n",
       "  {'pageid': 3533439, 'title': 'Wild card (sports)'},\n",
       "  {'pageid': 4168063, 'title': 'Wilks Coefficient'},\n",
       "  {'pageid': 821314, 'title': 'Winger (sports)'},\n",
       "  {'pageid': 2514586, 'title': 'Winning percentage'},\n",
       "  {'pageid': 5764065, 'title': 'Winning streak (sports)'},\n",
       "  {'pageid': 50137925, 'title': 'Wire-to-wire'},\n",
       "  {'pageid': 1287435, 'title': 'World championship'},\n",
       "  {'pageid': 33727, 'title': 'World cup competition'},\n",
       "  {'pageid': 44220230, 'title': 'Youth ice hockey coach'}]}"
      ]
     },
     "execution_count": 11,
     "metadata": {},
     "output_type": "execute_result"
    }
   ],
   "source": [
    "sports_term"
   ]
  },
  {
   "cell_type": "code",
   "execution_count": 12,
   "metadata": {
    "collapsed": false
   },
   "outputs": [],
   "source": [
    "responses = []\n",
    "for cat in categories['categories']:\n",
    "    response = wiki.query_category(cat)\n",
    "    responses.append(response)"
   ]
  },
  {
   "cell_type": "code",
   "execution_count": 13,
   "metadata": {
    "collapsed": false
   },
   "outputs": [
    {
     "data": {
      "text/plain": [
       "[{'categoryid': '2835113',\n",
       "  'pages': [{'pageid': 52340430, 'title': 'Self-tying shoes'},\n",
       "   {'pageid': 27178, 'title': 'Shoe'},\n",
       "   {'pageid': 21604168, 'title': 'Adidas Kampung'},\n",
       "   {'pageid': 48613465, 'title': 'Adidas Yeezy'},\n",
       "   {'pageid': 3597551, 'title': 'Ballet shoe'},\n",
       "   {'pageid': 2962525, 'title': 'Bast shoe'},\n",
       "   {'pageid': 45519967, 'title': 'Bespoke shoes'},\n",
       "   {'pageid': 43377141, 'title': 'Blake construction'},\n",
       "   {'pageid': 36352435, 'title': 'Blucher shoe'},\n",
       "   {'pageid': 22258399, 'title': 'Boat shoe'},\n",
       "   {'pageid': 25738885, 'title': 'Brogan (shoes)'},\n",
       "   {'pageid': 2374221, 'title': 'Brogue shoe'},\n",
       "   {'pageid': 24514641, 'title': 'Calceology'},\n",
       "   {'pageid': 4905584, 'title': 'Caligae'},\n",
       "   {'pageid': 38026052, 'title': 'Cantabrian albarcas'},\n",
       "   {'pageid': 6357967, 'title': 'Chopine'},\n",
       "   {'pageid': 20213236, 'title': 'Ciocia'},\n",
       "   {'pageid': 358727, 'title': 'Clog'},\n",
       "   {'pageid': 46391052, 'title': 'Traskor'},\n",
       "   {'pageid': 3065132, 'title': 'Court shoe'},\n",
       "   {'pageid': 2488281, 'title': 'Crakow (shoe)'},\n",
       "   {'pageid': 2247691, 'title': 'Brothel creeper'},\n",
       "   {'pageid': 38031528, 'title': 'Cross country running shoe'},\n",
       "   {'pageid': 19239275, 'title': 'Derby shoe'},\n",
       "   {'pageid': 17697723, 'title': 'Diabetic shoe'},\n",
       "   {'pageid': 31268247, 'title': 'Dori shoes'},\n",
       "   {'pageid': 4014612, 'title': 'Dress shoe'},\n",
       "   {'pageid': 1115115, 'title': 'Earth shoe'},\n",
       "   {'pageid': 588873, 'title': 'Espadrille'},\n",
       "   {'pageid': 33832430, 'title': 'Fuck-me shoes'},\n",
       "   {'pageid': 50564213, 'title': 'Funds2Orgs'},\n",
       "   {'pageid': 10688145, 'title': 'Galesh'},\n",
       "   {'pageid': 21920435, 'title': 'Big Nose George'},\n",
       "   {'pageid': 9683069, 'title': 'Giveh'},\n",
       "   {'pageid': 3066724, 'title': 'Goodyear welt'},\n",
       "   {'pageid': 2070436, 'title': 'High-heeled footwear'},\n",
       "   {'pageid': 9344650, 'title': 'Huarache (shoe)'},\n",
       "   {'pageid': 24952928, 'title': 'Jazz shoe'},\n",
       "   {'pageid': 3540564, 'title': 'Jelly shoes'},\n",
       "   {'pageid': 13865585, 'title': 'Jumpsoles'},\n",
       "   {'pageid': 2350452, 'title': 'Jutti'},\n",
       "   {'pageid': 943169, 'title': 'Kitten heel'},\n",
       "   {'pageid': 43270447, 'title': 'Kung fu shoe'},\n",
       "   {'pageid': 26867450, 'title': 'Locomotor effects of shoes'},\n",
       "   {'pageid': 19686362, 'title': 'Lotus shoes'},\n",
       "   {'pageid': 2495501, 'title': 'Mary Jane (shoe)'},\n",
       "   {'pageid': 3960865, 'title': 'Moccasin'},\n",
       "   {'pageid': 19428160, 'title': 'Monk shoe'},\n",
       "   {'pageid': 949952, 'title': 'Mule (shoe)'},\n",
       "   {'pageid': 23912768, 'title': 'Nike Air Yeezy'},\n",
       "   {'pageid': 19968529, 'title': 'Nike Flywire'},\n",
       "   {'pageid': 50389650, 'title': 'Nike Hypervenom'},\n",
       "   {'pageid': 39531664, 'title': 'Nike Zoom KD line'},\n",
       "   {'pageid': 1427179, 'title': 'Opanak'},\n",
       "   {'pageid': 28873240, 'title': 'Opinga'},\n",
       "   {'pageid': 1488747, 'title': 'Organ shoes'},\n",
       "   {'pageid': 34207142, 'title': 'Over-the-knee boot'},\n",
       "   {'pageid': 1317100, 'title': 'Oxford shoe'},\n",
       "   {'pageid': 27701073, 'title': 'Pampootie'},\n",
       "   {'pageid': 44332838, 'title': 'Pataugas'},\n",
       "   {'pageid': 8367350, 'title': 'Peranakan beaded slippers'},\n",
       "   {'pageid': 699690, 'title': 'Platform shoe'},\n",
       "   {'pageid': 444044, 'title': 'Pointe shoe'},\n",
       "   {'pageid': 34360360, 'title': 'Pointed shoe'},\n",
       "   {'pageid': 19743622, 'title': 'Pointinini'},\n",
       "   {'pageid': 45360784, 'title': 'Reebok Nano'},\n",
       "   {'pageid': 27953456, 'title': 'Rocker bottom shoe'},\n",
       "   {'pageid': 28080004, 'title': 'Russian boot'},\n",
       "   {'pageid': 6737449, 'title': 'Saddle shoe'},\n",
       "   {'pageid': 43512313, 'title': 'Shoe hanger'},\n",
       "   {'pageid': 33181651, 'title': 'Shoe store'},\n",
       "   {'pageid': 42560364, 'title': 'List of shoe styles'},\n",
       "   {'pageid': 940322, 'title': 'Shoemaking'},\n",
       "   {'pageid': 12860125, 'title': 'Shoeshiner'},\n",
       "   {'pageid': 19277881, 'title': 'Silver Shoes'},\n",
       "   {'pageid': 303335, 'title': 'Slip-on shoe'},\n",
       "   {'pageid': 377864, 'title': 'Slipper'},\n",
       "   {'pageid': 467481, 'title': 'Sneakers'},\n",
       "   {'pageid': 30795298, 'title': 'Snow boot'},\n",
       "   {'pageid': 32860984, 'title': 'Soles4Souls'},\n",
       "   {'pageid': 3580975, 'title': 'Spectator shoe'},\n",
       "   {'pageid': 332200, 'title': 'Steel-toe boot'},\n",
       "   {'pageid': 22289871, 'title': 'T-bar sandal'},\n",
       "   {'pageid': 35132297, 'title': 'Tiger-head shoes'},\n",
       "   {'pageid': 8912306, 'title': 'Tsarouhi'},\n",
       "   {'pageid': 9987462, 'title': 'Turnshoe'},\n",
       "   {'pageid': 25470466, 'title': 'Vans Half Cab'},\n",
       "   {'pageid': 15579507, 'title': 'Venetian-style shoe'},\n",
       "   {'pageid': 48587651, 'title': 'Wholecut'},\n",
       "   {'pageid': 1245170, 'title': 'Winklepicker'},\n",
       "   {'pageid': 31454236, 'title': 'Worishofer'},\n",
       "   {'pageid': 48654609, 'title': \"Wren's Super Wax Shoe Polish\"}]},\n",
       " {'categoryid': '692318',\n",
       "  'pages': [{'pageid': 22939, 'title': 'Physics'},\n",
       "   {'pageid': 3445246, 'title': 'Glossary of classical physics'},\n",
       "   {'pageid': 24489, 'title': 'Outline of physics'},\n",
       "   {'pageid': 1653925, 'title': 'Portal:Physics'},\n",
       "   {'pageid': 50926902, 'title': 'Action angle coordinates'},\n",
       "   {'pageid': 9079863, 'title': 'Aerometer'},\n",
       "   {'pageid': 52657328, 'title': 'Bayesian model of computational anatomy'},\n",
       "   {'pageid': 49342572, 'title': 'Group actions in computational anatomy'},\n",
       "   {'pageid': 50724262, 'title': 'Blasius-Chaplygin formula'},\n",
       "   {'pageid': 33327002, 'title': 'Cabbeling'},\n",
       "   {'pageid': 2664158, 'title': 'Center of percussion'},\n",
       "   {'pageid': 48520204, 'title': 'Computational anatomy'},\n",
       "   {'pageid': 53065585, 'title': 'User:Sparkyscience/Time Crystals'},\n",
       "   {'pageid': 50333728, 'title': 'Diffuse field acoustic testing'},\n",
       "   {'pageid': 49885288, 'title': 'Dirac membrane'},\n",
       "   {'pageid': 51084847, 'title': 'Dispersive medium'},\n",
       "   {'pageid': 51215300, 'title': 'Electron heat capacity'},\n",
       "   {'pageid': 50791779, 'title': 'Energy well'},\n",
       "   {'pageid': 47723069, 'title': 'Epicatalysis'},\n",
       "   {'pageid': 51297098, 'title': 'Farris effect (rheology)'},\n",
       "   {'pageid': 48407923, 'title': 'Hume Feldman'},\n",
       "   {'pageid': 52907991, 'title': 'Front (physics)'},\n",
       "   {'pageid': 40661277, 'title': 'Holography in fiction'},\n",
       "   {'pageid': 21348562, 'title': 'Homeokinetics'},\n",
       "   {'pageid': 50013014, 'title': 'Hopkinson effect'},\n",
       "   {'pageid': 3591456, 'title': 'Interface (matter)'},\n",
       "   {'pageid': 49418115,\n",
       "    'title': 'Large deformation diffeomorphic metric mapping'},\n",
       "   {'pageid': 48583145, 'title': 'Northwest Nuclear Consortium'},\n",
       "   {'pageid': 48249441, 'title': 'Phase stretch transform'},\n",
       "   {'pageid': 52900765, 'title': 'Physics OCSC'},\n",
       "   {'pageid': 52900761, 'title': 'Physics Olympiad Programme in India'},\n",
       "   {'pageid': 52748480, 'title': 'Plexciton'},\n",
       "   {'pageid': 784621, 'title': 'Many-body theory'},\n",
       "   {'pageid': 49400436,\n",
       "    'title': 'Riemannian metric and Lie-bracket in computational anatomy'},\n",
       "   {'pageid': 676502, 'title': 'Rogue wave'},\n",
       "   {'pageid': 46545942, 'title': 'Solid light'},\n",
       "   {'pageid': 28481, 'title': 'Statistical mechanics'},\n",
       "   {'pageid': 42906061, 'title': 'Total position spread'},\n",
       "   {'pageid': 50561501, 'title': 'Transparent wood composites'},\n",
       "   {'pageid': 52499698, 'title': 'Upconverting nanoparticles'},\n",
       "   {'pageid': 52588462, 'title': 'Verwey transition'},\n",
       "   {'pageid': 49226157, 'title': 'Weak gravity conjecture'},\n",
       "   {'pageid': 24293838, 'title': 'Wigner rotation'},\n",
       "   {'pageid': 50588414, 'title': 'Ned Wingreen'}]},\n",
       " {'categoryid': '1489690',\n",
       "  'pages': [{'pageid': 3472397, 'title': 'Lactate threshold'},\n",
       "   {'pageid': 735121, 'title': 'All-star'},\n",
       "   {'pageid': 31638472, 'title': 'Arteriovenous oxygen difference'},\n",
       "   {'pageid': 4158437, 'title': 'Asian handicap'},\n",
       "   {'pageid': 154164, 'title': 'Athlete'},\n",
       "   {'pageid': 27496299, 'title': 'Athletics (physical culture)'},\n",
       "   {'pageid': 487940, 'title': 'Attacker'},\n",
       "   {'pageid': 36247003, 'title': 'Away colours'},\n",
       "   {'pageid': 3133119, 'title': \"Beginner's luck\"},\n",
       "   {'pageid': 5836436, 'title': 'Bench (metonymy)'},\n",
       "   {'pageid': 4363276, 'title': 'Bench-clearing brawl'},\n",
       "   {'pageid': 9607623, 'title': 'Benefit (sports)'},\n",
       "   {'pageid': 21785753, 'title': 'Big-ways'},\n",
       "   {'pageid': 3495354, 'title': 'Blackout (broadcasting)'},\n",
       "   {'pageid': 37133212, 'title': 'Blondes vs. Brunettes (charity event)'},\n",
       "   {'pageid': 11489708, 'title': 'Blue chip (sports)'},\n",
       "   {'pageid': 526648, 'title': 'Bronze medal'},\n",
       "   {'pageid': 4937455, 'title': 'Bye (sports)'},\n",
       "   {'pageid': 41668046, 'title': 'Cann table'},\n",
       "   {'pageid': 844283, 'title': 'Cantera'},\n",
       "   {'pageid': 3191695, 'title': 'Cap (sport)'},\n",
       "   {'pageid': 346821, 'title': 'Carbohydrate loading'},\n",
       "   {'pageid': 4070820, 'title': 'Card stunt'},\n",
       "   {'pageid': 37307060, 'title': 'Chronic training load'},\n",
       "   {'pageid': 3195183, 'title': 'Cinderella (sports)'},\n",
       "   {'pageid': 2049987, 'title': 'Club seating'},\n",
       "   {'pageid': 48423585, 'title': 'Comeback (sports)'},\n",
       "   {'pageid': 2947537, 'title': 'Contact sport'},\n",
       "   {'pageid': 30163958, 'title': 'Continental championship'},\n",
       "   {'pageid': 774201, 'title': 'Cooper test'},\n",
       "   {'pageid': 46453731, 'title': 'Crest (sports)'},\n",
       "   {'pageid': 4121912, 'title': 'Glossary of cue sports terms'},\n",
       "   {'pageid': 3539514, 'title': 'Dead rubber'},\n",
       "   {'pageid': 21250203, 'title': 'Debenture (sport)'},\n",
       "   {'pageid': 7509291, 'title': 'Depth chart'},\n",
       "   {'pageid': 2396171, 'title': 'Dispersal draft'},\n",
       "   {'pageid': 248295, 'title': 'Division (sport)'},\n",
       "   {'pageid': 616574, 'title': 'Draft (sports)'},\n",
       "   {'pageid': 10191869, 'title': 'Draft blunder'},\n",
       "   {'pageid': 30722684, 'title': 'Draft steal'},\n",
       "   {'pageid': 1531458, 'title': 'Drought (sport)'},\n",
       "   {'pageid': 2135232, 'title': 'List of sports dynasties'},\n",
       "   {'pageid': 735272, 'title': 'Elite Eight'},\n",
       "   {'pageid': 977090, 'title': 'Exhibition game'},\n",
       "   {'pageid': 1945737, 'title': 'Expansion team'},\n",
       "   {'pageid': 1441192, 'title': 'Falcon (sport)'},\n",
       "   {'pageid': 765082, 'title': 'Fight song'},\n",
       "   {'pageid': 8375856, 'title': 'Final (competition)'},\n",
       "   {'pageid': 8367801, 'title': 'Final four'},\n",
       "   {'pageid': 38393475, 'title': 'Forfeit (sport)'},\n",
       "   {'pageid': 19591974, 'title': 'Foul (sports)'},\n",
       "   {'pageid': 8136159, 'title': 'Franchise player'},\n",
       "   {'pageid': 27765900, 'title': 'Free substitution'},\n",
       "   {'pageid': 2514975, 'title': 'Games behind'},\n",
       "   {'pageid': 24120739, 'title': 'Give-and-go'},\n",
       "   {'pageid': 14488307, 'title': 'Glossary of archery terms'},\n",
       "   {'pageid': 34424395, 'title': 'Glossary of North American horse racing'},\n",
       "   {'pageid': 86314, 'title': 'Goalkeeper'},\n",
       "   {'pageid': 526488, 'title': 'Gold medal'},\n",
       "   {'pageid': 3715006, 'title': 'Grandfather rule'},\n",
       "   {'pageid': 7055656, 'title': 'Grind (sport)'},\n",
       "   {'pageid': 52652103, 'title': 'Handball goalkeeper'},\n",
       "   {'pageid': 1495803, 'title': 'Handicapping'},\n",
       "   {'pageid': 5168650, 'title': 'Hearties'},\n",
       "   {'pageid': 1937469, 'title': 'Hitting the wall'},\n",
       "   {'pageid': 23238167, 'title': 'Hospital pass'},\n",
       "   {'pageid': 4524265, 'title': 'Huddle'},\n",
       "   {'pageid': 13555214, 'title': 'Hungarian system'},\n",
       "   {'pageid': 3247833, 'title': 'Injured reserve list'},\n",
       "   {'pageid': 37780041, 'title': 'Iron man (sports streak)'},\n",
       "   {'pageid': 14613477, 'title': 'Line call'},\n",
       "   {'pageid': 18007329, 'title': 'List of karate terms'},\n",
       "   {'pageid': 1493579, 'title': 'List of sports terms named after people'},\n",
       "   {'pageid': 13092576,\n",
       "    'title': 'List of world cups and world championships for juniors and youth'},\n",
       "   {'pageid': 5204993, 'title': 'List of world sports championships'},\n",
       "   {'pageid': 8932630, 'title': 'Lucky loser'},\n",
       "   {'pageid': 906698, 'title': 'Man of the match'},\n",
       "   {'pageid': 14742913, 'title': 'Match penalty'},\n",
       "   {'pageid': 30498023, 'title': 'Mental toughness'},\n",
       "   {'pageid': 28695, 'title': 'Mercy rule'},\n",
       "   {'pageid': 5290295, 'title': 'Minor premiership'},\n",
       "   {'pageid': 3324082, 'title': 'Moral victory'},\n",
       "   {'pageid': 53900, 'title': 'Multi-sport event'},\n",
       "   {'pageid': 2032714, 'title': 'Nap hand'},\n",
       "   {'pageid': 17379274, 'title': 'National championship'},\n",
       "   {'pageid': 14966611, 'title': 'National Letter of Intent'},\n",
       "   {'pageid': 18360639, 'title': 'National sport'},\n",
       "   {'pageid': 8339716, 'title': 'No goal'},\n",
       "   {'pageid': 1742190, 'title': 'Offense (sports)'},\n",
       "   {'pageid': 14238921, 'title': 'Offer sheet'},\n",
       "   {'pageid': 50173642, 'title': 'On the Bubble'},\n",
       "   {'pageid': 6760905, 'title': 'One-game playoff'},\n",
       "   {'pageid': 2337918, 'title': 'Open (sport)'},\n",
       "   {'pageid': 4494157, 'title': 'Page playoff system'},\n",
       "   {'pageid': 4533566, 'title': 'Parity (sports)'},\n",
       "   {'pageid': 46979531, 'title': 'Peak power output'},\n",
       "   {'pageid': 2356756, 'title': 'Perfect season'},\n",
       "   {'pageid': 39292677, 'title': 'Personal record (sport)'},\n",
       "   {'pageid': 1732880, 'title': 'Personal seat license'},\n",
       "   {'pageid': 28018962, 'title': 'Pick-up game'},\n",
       "   {'pageid': 5921341, 'title': 'Pitch (sports field)'},\n",
       "   {'pageid': 4188995, 'title': 'Play-in game'},\n",
       "   {'pageid': 2847115, 'title': 'Playoff format'},\n",
       "   {'pageid': 5494437, 'title': 'Pocket schedule'},\n",
       "   {'pageid': 42458903, 'title': 'Podiuming'},\n",
       "   {'pageid': 22928159, 'title': 'Points percentage'},\n",
       "   {'pageid': 3897882, 'title': 'Powderpuff (sports)'},\n",
       "   {'pageid': 4028048, 'title': 'Press box'},\n",
       "   {'pageid': 25803412, 'title': 'Pro-am'},\n",
       "   {'pageid': 4496150, 'title': 'Professional sports league organization'},\n",
       "   {'pageid': 648049, 'title': 'Promotion and relegation'},\n",
       "   {'pageid': 5648365, 'title': 'Prospect (sports)'},\n",
       "   {'pageid': 47769908, 'title': 'Raw Run'},\n",
       "   {'pageid': 51606581, 'title': 'Raza point score system'},\n",
       "   {'pageid': 445677, 'title': 'Realignment (sports)'},\n",
       "   {'pageid': 2912396, 'title': 'Rebound (sports)'},\n",
       "   {'pageid': 3882910, 'title': 'Redshirt (college sports)'},\n",
       "   {'pageid': 12422239, 'title': 'Replay (sports)'},\n",
       "   {'pageid': 1980611, 'title': 'Representative side'},\n",
       "   {'pageid': 9641900, 'title': 'Restricted free agent'},\n",
       "   {'pageid': 9532306, 'title': 'Ring announcer'},\n",
       "   {'pageid': 472164, 'title': 'Riseball'},\n",
       "   {'pageid': 10301769, 'title': 'Running economy'},\n",
       "   {'pageid': 6836777, 'title': 'Safeword (sports)'},\n",
       "   {'pageid': 30879795, 'title': 'Scratch team'},\n",
       "   {'pageid': 16876591, 'title': 'Selector (sport)'},\n",
       "   {'pageid': 1102335, 'title': 'Semi-professional'},\n",
       "   {'pageid': 1463429, 'title': 'Serpentine system'},\n",
       "   {'pageid': 322192, 'title': 'Free agent'},\n",
       "   {'pageid': 19898520, 'title': 'Shaughnessy playoff system'},\n",
       "   {'pageid': 5457111, 'title': 'Shirts versus skins'},\n",
       "   {'pageid': 526647, 'title': 'Silver medal'},\n",
       "   {'pageid': 11072011, 'title': 'Sinclair Coefficients'},\n",
       "   {'pageid': 4408817, 'title': 'Singapi'},\n",
       "   {'pageid': 31696946, 'title': 'Sociedad Anonima Deportiva'},\n",
       "   {'pageid': 32840753, 'title': 'Sociedade Anonima Desportiva'},\n",
       "   {'pageid': 537639, 'title': 'Sporting colours'},\n",
       "   {'pageid': 399626, 'title': 'Sports card'},\n",
       "   {'pageid': 4532299, 'title': 'Sports club'},\n",
       "   {'pageid': 1662121, 'title': 'Sports commentator'},\n",
       "   {'pageid': 5791134, 'title': 'Sports fan'},\n",
       "   {'pageid': 26697252, 'title': 'Sports festival'},\n",
       "   {'pageid': 685328, 'title': 'Sports league'},\n",
       "   {'pageid': 2576109, 'title': 'Sports rating system'},\n",
       "   {'pageid': 19556861, 'title': 'Sports ticket derivative'},\n",
       "   {'pageid': 1432555, 'title': 'Stadium anthem'},\n",
       "   {'pageid': 857511, 'title': 'Standings'},\n",
       "   {'pageid': 3779045, 'title': 'Stat padding'},\n",
       "   {'pageid': 11706234,\n",
       "    'title': 'Status lists of players in professional sports'},\n",
       "   {'pageid': 44269077, 'title': 'Submaximal performance testing'},\n",
       "   {'pageid': 17287389, 'title': 'Substitution (sport)'},\n",
       "   {'pageid': 29192052, 'title': 'Sucker tracks'},\n",
       "   {'pageid': 30792221, 'title': 'Sweet spot (sports)'},\n",
       "   {'pageid': 988407, 'title': 'Team sport'},\n",
       "   {'pageid': 18958780, 'title': 'Technical time-out (volleyball)'},\n",
       "   {'pageid': 4902404, 'title': 'Telegraphing (sports)'},\n",
       "   {'pageid': 382550, 'title': 'Third jersey'},\n",
       "   {'pageid': 5475710, 'title': 'Third place playoff'},\n",
       "   {'pageid': 4960100, 'title': 'Three points for a win'},\n",
       "   {'pageid': 345955, 'title': 'Three-peat'},\n",
       "   {'pageid': 1436515, 'title': 'Throwback uniform'},\n",
       "   {'pageid': 3013373, 'title': 'Tiebreaker'},\n",
       "   {'pageid': 19851994, 'title': 'Trade (sports)'},\n",
       "   {'pageid': 2521682, 'title': 'Training effect'},\n",
       "   {'pageid': 1267251, 'title': 'Trampolining terms'},\n",
       "   {'pageid': 17146605, 'title': 'Traveling team'},\n",
       "   {'pageid': 1170065, 'title': 'Underdog (term)'},\n",
       "   {'pageid': 378959, 'title': 'Varsity letter'},\n",
       "   {'pageid': 567655, 'title': 'Varsity team'},\n",
       "   {'pageid': 889745, 'title': 'Vert (sport)'},\n",
       "   {'pageid': 968834, 'title': 'VO2 max'},\n",
       "   {'pageid': 5051251, 'title': 'Walkover'},\n",
       "   {'pageid': 8830995, 'title': 'Whitewash (sport)'},\n",
       "   {'pageid': 3533439, 'title': 'Wild card (sports)'},\n",
       "   {'pageid': 4168063, 'title': 'Wilks Coefficient'},\n",
       "   {'pageid': 821314, 'title': 'Winger (sports)'},\n",
       "   {'pageid': 2514586, 'title': 'Winning percentage'},\n",
       "   {'pageid': 5764065, 'title': 'Winning streak (sports)'},\n",
       "   {'pageid': 50137925, 'title': 'Wire-to-wire'},\n",
       "   {'pageid': 1287435, 'title': 'World championship'},\n",
       "   {'pageid': 33727, 'title': 'World cup competition'},\n",
       "   {'pageid': 44220230, 'title': 'Youth ice hockey coach'}]}]"
      ]
     },
     "execution_count": 13,
     "metadata": {},
     "output_type": "execute_result"
    }
   ],
   "source": [
    "responses"
   ]
  },
  {
   "cell_type": "code",
   "execution_count": 14,
   "metadata": {
    "collapsed": false,
    "scrolled": false
   },
   "outputs": [
    {
     "data": {
      "text/plain": [
       "['2835113', '692318', '1489690']"
      ]
     },
     "metadata": {},
     "output_type": "display_data"
    }
   ],
   "source": [
    "cat_ids = [response['categoryid'] for response in responses]\n",
    "# cat_names = [response['pages'] for response in responses]\n",
    "display (cat_ids)\n",
    "# display (cat_names)"
   ]
  },
  {
   "cell_type": "code",
   "execution_count": 15,
   "metadata": {
    "collapsed": true
   },
   "outputs": [],
   "source": [
    "zipped = zip(categories['categories'], cat_ids)"
   ]
  },
  {
   "cell_type": "code",
   "execution_count": 16,
   "metadata": {
    "collapsed": false
   },
   "outputs": [
    {
     "name": "stdout",
     "output_type": "stream",
     "text": [
      "('shoes', '2835113')\n",
      "Connected to server joshuacook.me.\n",
      "('physics', '692318')\n",
      "Connected to server joshuacook.me.\n",
      "('sports terminology', '1489690')\n",
      "Connected to server joshuacook.me.\n"
     ]
    }
   ],
   "source": [
    "for cat in zip(categories['categories'], cat_ids):\n",
    "    print(cat)\n",
    "    db.create_or_update_category_in_database(cat[1], cat[0])"
   ]
  },
  {
   "cell_type": "code",
   "execution_count": 21,
   "metadata": {
    "collapsed": false
   },
   "outputs": [
    {
     "data": {
      "text/html": [
       "<div>\n",
       "<table border=\"1\" class=\"dataframe\">\n",
       "  <thead>\n",
       "    <tr style=\"text-align: right;\">\n",
       "      <th></th>\n",
       "      <th>pageid</th>\n",
       "      <th>title</th>\n",
       "    </tr>\n",
       "  </thead>\n",
       "  <tbody>\n",
       "    <tr>\n",
       "      <th>0</th>\n",
       "      <td>52340430</td>\n",
       "      <td>Self-tying shoes</td>\n",
       "    </tr>\n",
       "    <tr>\n",
       "      <th>1</th>\n",
       "      <td>27178</td>\n",
       "      <td>Shoe</td>\n",
       "    </tr>\n",
       "    <tr>\n",
       "      <th>2</th>\n",
       "      <td>21604168</td>\n",
       "      <td>Adidas Kampung</td>\n",
       "    </tr>\n",
       "    <tr>\n",
       "      <th>3</th>\n",
       "      <td>48613465</td>\n",
       "      <td>Adidas Yeezy</td>\n",
       "    </tr>\n",
       "    <tr>\n",
       "      <th>4</th>\n",
       "      <td>3597551</td>\n",
       "      <td>Ballet shoe</td>\n",
       "    </tr>\n",
       "    <tr>\n",
       "      <th>5</th>\n",
       "      <td>2962525</td>\n",
       "      <td>Bast shoe</td>\n",
       "    </tr>\n",
       "    <tr>\n",
       "      <th>6</th>\n",
       "      <td>45519967</td>\n",
       "      <td>Bespoke shoes</td>\n",
       "    </tr>\n",
       "    <tr>\n",
       "      <th>7</th>\n",
       "      <td>43377141</td>\n",
       "      <td>Blake construction</td>\n",
       "    </tr>\n",
       "    <tr>\n",
       "      <th>8</th>\n",
       "      <td>36352435</td>\n",
       "      <td>Blucher shoe</td>\n",
       "    </tr>\n",
       "    <tr>\n",
       "      <th>9</th>\n",
       "      <td>22258399</td>\n",
       "      <td>Boat shoe</td>\n",
       "    </tr>\n",
       "  </tbody>\n",
       "</table>\n",
       "</div>"
      ],
      "text/plain": [
       "     pageid               title\n",
       "0  52340430    Self-tying shoes\n",
       "1     27178                Shoe\n",
       "2  21604168      Adidas Kampung\n",
       "3  48613465        Adidas Yeezy\n",
       "4   3597551         Ballet shoe\n",
       "5   2962525           Bast shoe\n",
       "6  45519967       Bespoke shoes\n",
       "7  43377141  Blake construction\n",
       "8  36352435        Blucher shoe\n",
       "9  22258399           Boat shoe"
      ]
     },
     "execution_count": 21,
     "metadata": {},
     "output_type": "execute_result"
    }
   ],
   "source": [
    "pd.DataFrame(responses[0]['pages']).head(10)"
   ]
  },
  {
   "cell_type": "markdown",
   "metadata": {},
   "source": [
    "### Acquire: Query Wikipedia by category for pages"
   ]
  },
  {
   "cell_type": "code",
   "execution_count": 19,
   "metadata": {
    "collapsed": true
   },
   "outputs": [
    {
     "data": {
      "text/plain": [
       "{'categoryid': '2835113',\n",
       " 'pages': [{'pageid': 52340430, 'title': 'Self-tying shoes'},\n",
       "  {'pageid': 27178, 'title': 'Shoe'},\n",
       "  {'pageid': 21604168, 'title': 'Adidas Kampung'},\n",
       "  {'pageid': 48613465, 'title': 'Adidas Yeezy'},\n",
       "  {'pageid': 3597551, 'title': 'Ballet shoe'},\n",
       "  {'pageid': 2962525, 'title': 'Bast shoe'},\n",
       "  {'pageid': 45519967, 'title': 'Bespoke shoes'},\n",
       "  {'pageid': 43377141, 'title': 'Blake construction'},\n",
       "  {'pageid': 36352435, 'title': 'Blucher shoe'},\n",
       "  {'pageid': 22258399, 'title': 'Boat shoe'},\n",
       "  {'pageid': 25738885, 'title': 'Brogan (shoes)'},\n",
       "  {'pageid': 2374221, 'title': 'Brogue shoe'},\n",
       "  {'pageid': 24514641, 'title': 'Calceology'},\n",
       "  {'pageid': 4905584, 'title': 'Caligae'},\n",
       "  {'pageid': 38026052, 'title': 'Cantabrian albarcas'},\n",
       "  {'pageid': 6357967, 'title': 'Chopine'},\n",
       "  {'pageid': 20213236, 'title': 'Ciocia'},\n",
       "  {'pageid': 358727, 'title': 'Clog'},\n",
       "  {'pageid': 46391052, 'title': 'Traskor'},\n",
       "  {'pageid': 3065132, 'title': 'Court shoe'},\n",
       "  {'pageid': 2488281, 'title': 'Crakow (shoe)'},\n",
       "  {'pageid': 2247691, 'title': 'Brothel creeper'},\n",
       "  {'pageid': 38031528, 'title': 'Cross country running shoe'},\n",
       "  {'pageid': 19239275, 'title': 'Derby shoe'},\n",
       "  {'pageid': 17697723, 'title': 'Diabetic shoe'},\n",
       "  {'pageid': 31268247, 'title': 'Dori shoes'},\n",
       "  {'pageid': 4014612, 'title': 'Dress shoe'},\n",
       "  {'pageid': 1115115, 'title': 'Earth shoe'},\n",
       "  {'pageid': 588873, 'title': 'Espadrille'},\n",
       "  {'pageid': 33832430, 'title': 'Fuck-me shoes'},\n",
       "  {'pageid': 50564213, 'title': 'Funds2Orgs'},\n",
       "  {'pageid': 10688145, 'title': 'Galesh'},\n",
       "  {'pageid': 21920435, 'title': 'Big Nose George'},\n",
       "  {'pageid': 9683069, 'title': 'Giveh'},\n",
       "  {'pageid': 3066724, 'title': 'Goodyear welt'},\n",
       "  {'pageid': 2070436, 'title': 'High-heeled footwear'},\n",
       "  {'pageid': 9344650, 'title': 'Huarache (shoe)'},\n",
       "  {'pageid': 24952928, 'title': 'Jazz shoe'},\n",
       "  {'pageid': 3540564, 'title': 'Jelly shoes'},\n",
       "  {'pageid': 13865585, 'title': 'Jumpsoles'},\n",
       "  {'pageid': 2350452, 'title': 'Jutti'},\n",
       "  {'pageid': 943169, 'title': 'Kitten heel'},\n",
       "  {'pageid': 43270447, 'title': 'Kung fu shoe'},\n",
       "  {'pageid': 26867450, 'title': 'Locomotor effects of shoes'},\n",
       "  {'pageid': 19686362, 'title': 'Lotus shoes'},\n",
       "  {'pageid': 2495501, 'title': 'Mary Jane (shoe)'},\n",
       "  {'pageid': 3960865, 'title': 'Moccasin'},\n",
       "  {'pageid': 19428160, 'title': 'Monk shoe'},\n",
       "  {'pageid': 949952, 'title': 'Mule (shoe)'},\n",
       "  {'pageid': 23912768, 'title': 'Nike Air Yeezy'},\n",
       "  {'pageid': 19968529, 'title': 'Nike Flywire'},\n",
       "  {'pageid': 50389650, 'title': 'Nike Hypervenom'},\n",
       "  {'pageid': 39531664, 'title': 'Nike Zoom KD line'},\n",
       "  {'pageid': 1427179, 'title': 'Opanak'},\n",
       "  {'pageid': 28873240, 'title': 'Opinga'},\n",
       "  {'pageid': 1488747, 'title': 'Organ shoes'},\n",
       "  {'pageid': 34207142, 'title': 'Over-the-knee boot'},\n",
       "  {'pageid': 1317100, 'title': 'Oxford shoe'},\n",
       "  {'pageid': 27701073, 'title': 'Pampootie'},\n",
       "  {'pageid': 44332838, 'title': 'Pataugas'},\n",
       "  {'pageid': 8367350, 'title': 'Peranakan beaded slippers'},\n",
       "  {'pageid': 699690, 'title': 'Platform shoe'},\n",
       "  {'pageid': 444044, 'title': 'Pointe shoe'},\n",
       "  {'pageid': 34360360, 'title': 'Pointed shoe'},\n",
       "  {'pageid': 19743622, 'title': 'Pointinini'},\n",
       "  {'pageid': 45360784, 'title': 'Reebok Nano'},\n",
       "  {'pageid': 27953456, 'title': 'Rocker bottom shoe'},\n",
       "  {'pageid': 28080004, 'title': 'Russian boot'},\n",
       "  {'pageid': 6737449, 'title': 'Saddle shoe'},\n",
       "  {'pageid': 43512313, 'title': 'Shoe hanger'},\n",
       "  {'pageid': 33181651, 'title': 'Shoe store'},\n",
       "  {'pageid': 42560364, 'title': 'List of shoe styles'},\n",
       "  {'pageid': 940322, 'title': 'Shoemaking'},\n",
       "  {'pageid': 12860125, 'title': 'Shoeshiner'},\n",
       "  {'pageid': 19277881, 'title': 'Silver Shoes'},\n",
       "  {'pageid': 303335, 'title': 'Slip-on shoe'},\n",
       "  {'pageid': 377864, 'title': 'Slipper'},\n",
       "  {'pageid': 467481, 'title': 'Sneakers'},\n",
       "  {'pageid': 30795298, 'title': 'Snow boot'},\n",
       "  {'pageid': 32860984, 'title': 'Soles4Souls'},\n",
       "  {'pageid': 3580975, 'title': 'Spectator shoe'},\n",
       "  {'pageid': 332200, 'title': 'Steel-toe boot'},\n",
       "  {'pageid': 22289871, 'title': 'T-bar sandal'},\n",
       "  {'pageid': 35132297, 'title': 'Tiger-head shoes'},\n",
       "  {'pageid': 8912306, 'title': 'Tsarouhi'},\n",
       "  {'pageid': 9987462, 'title': 'Turnshoe'},\n",
       "  {'pageid': 25470466, 'title': 'Vans Half Cab'},\n",
       "  {'pageid': 15579507, 'title': 'Venetian-style shoe'},\n",
       "  {'pageid': 48587651, 'title': 'Wholecut'},\n",
       "  {'pageid': 1245170, 'title': 'Winklepicker'},\n",
       "  {'pageid': 31454236, 'title': 'Worishofer'},\n",
       "  {'pageid': 48654609, 'title': \"Wren's Super Wax Shoe Polish\"}]}"
      ]
     },
     "execution_count": 19,
     "metadata": {},
     "output_type": "execute_result"
    }
   ],
   "source": [
    "shoes"
   ]
  },
  {
   "cell_type": "code",
   "execution_count": null,
   "metadata": {
    "collapsed": false,
    "scrolled": false
   },
   "outputs": [],
   "source": [
    "shoes['pages'][0]['title']"
   ]
  },
  {
   "cell_type": "code",
   "execution_count": 3,
   "metadata": {
    "collapsed": false
   },
   "outputs": [
    {
     "name": "stdout",
     "output_type": "stream",
     "text": [
      "Connected to server joshuacook.me.\n"
     ]
    }
   ],
   "source": [
    "conn, cur = db.connect_to_postgres()"
   ]
  },
  {
   "cell_type": "markdown",
   "metadata": {},
   "source": [
    "### Acquire: Write category info to database"
   ]
  },
  {
   "cell_type": "code",
   "execution_count": null,
   "metadata": {
    "collapsed": true
   },
   "outputs": [],
   "source": []
  },
  {
   "cell_type": "markdown",
   "metadata": {},
   "source": [
    "### Acquire: Query Wikipedia by page id for content"
   ]
  },
  {
   "cell_type": "code",
   "execution_count": 68,
   "metadata": {
    "collapsed": true
   },
   "outputs": [
    {
     "name": "stdout",
     "output_type": "stream",
     "text": [
      "Self-tying shoes\n",
      "Shoe\n",
      "Adidas Kampung\n",
      "Adidas Yeezy\n",
      "Ballet shoe\n",
      "Bast shoe\n",
      "Bespoke shoes\n",
      "Blake construction\n",
      "Blucher shoe\n",
      "Boat shoe\n",
      "Brogan (shoes)\n",
      "Brogue shoe\n",
      "Calceology\n",
      "Caligae\n",
      "Cantabrian albarcas\n",
      "Chopine\n",
      "Ciocia\n",
      "Clog\n",
      "Traskor\n",
      "Court shoe\n",
      "Crakow (shoe)\n",
      "Brothel creeper\n",
      "Cross country running shoe\n",
      "Derby shoe\n",
      "Diabetic shoe\n",
      "Dori shoes\n",
      "Dress shoe\n",
      "Earth shoe\n",
      "Espadrille\n",
      "Fuck-me shoes\n",
      "Funds2Orgs\n",
      "Galesh\n",
      "Big Nose George\n",
      "Giveh\n",
      "Goodyear welt\n",
      "High-heeled footwear\n",
      "Huarache (shoe)\n",
      "Jazz shoe\n",
      "Jelly shoes\n",
      "Jumpsoles\n",
      "Jutti\n",
      "Kitten heel\n",
      "Kung fu shoe\n",
      "Locomotor effects of shoes\n",
      "Lotus shoes\n",
      "Mary Jane (shoe)\n",
      "Moccasin\n",
      "Monk shoe\n",
      "Mule (shoe)\n",
      "Nike Air Yeezy\n",
      "Nike Flywire\n",
      "Nike Hypervenom\n",
      "Nike Zoom KD line\n",
      "Opanak\n",
      "Opinga\n",
      "Organ shoes\n",
      "Over-the-knee boot\n",
      "Oxford shoe\n",
      "Pampootie\n",
      "Pataugas\n",
      "Peranakan beaded slippers\n",
      "Platform shoe\n",
      "Pointe shoe\n",
      "Pointed shoe\n",
      "Pointinini\n",
      "Reebok Nano\n",
      "Rocker bottom shoe\n",
      "Russian boot\n",
      "Saddle shoe\n",
      "Shoe hanger\n",
      "Shoe store\n",
      "List of shoe styles\n",
      "Shoemaking\n",
      "Shoeshiner\n",
      "Silver Shoes\n",
      "Slip-on shoe\n",
      "Slipper\n",
      "Sneakers\n",
      "Snow boot\n",
      "Soles4Souls\n",
      "Spectator shoe\n",
      "Steel-toe boot\n",
      "T-bar sandal\n",
      "Tiger-head shoes\n",
      "Tsarouhi\n",
      "Turnshoe\n",
      "Vans Half Cab\n",
      "Venetian-style shoe\n",
      "Wholecut\n",
      "Winklepicker\n",
      "Worishofer\n",
      "Wren's Super Wax Shoe Polish\n"
     ]
    }
   ],
   "source": [
    "for s in enumerate(shoes['pages']):\n",
    "    print s[1]['title']"
   ]
  },
  {
   "cell_type": "code",
   "execution_count": 42,
   "metadata": {
    "collapsed": true
   },
   "outputs": [
    {
     "data": {
      "text/plain": [
       "[{'pageid': 52340430, 'title': 'Self-tying shoes'},\n",
       " {'pageid': 27178, 'title': 'Shoe'},\n",
       " {'pageid': 21604168, 'title': 'Adidas Kampung'},\n",
       " {'pageid': 48613465, 'title': 'Adidas Yeezy'},\n",
       " {'pageid': 3597551, 'title': 'Ballet shoe'},\n",
       " {'pageid': 2962525, 'title': 'Bast shoe'},\n",
       " {'pageid': 45519967, 'title': 'Bespoke shoes'},\n",
       " {'pageid': 43377141, 'title': 'Blake construction'},\n",
       " {'pageid': 36352435, 'title': 'Blucher shoe'},\n",
       " {'pageid': 22258399, 'title': 'Boat shoe'},\n",
       " {'pageid': 25738885, 'title': 'Brogan (shoes)'},\n",
       " {'pageid': 2374221, 'title': 'Brogue shoe'},\n",
       " {'pageid': 24514641, 'title': 'Calceology'},\n",
       " {'pageid': 4905584, 'title': 'Caligae'},\n",
       " {'pageid': 38026052, 'title': 'Cantabrian albarcas'},\n",
       " {'pageid': 6357967, 'title': 'Chopine'},\n",
       " {'pageid': 20213236, 'title': 'Ciocia'},\n",
       " {'pageid': 358727, 'title': 'Clog'},\n",
       " {'pageid': 46391052, 'title': 'Traskor'},\n",
       " {'pageid': 3065132, 'title': 'Court shoe'},\n",
       " {'pageid': 2488281, 'title': 'Crakow (shoe)'},\n",
       " {'pageid': 2247691, 'title': 'Brothel creeper'},\n",
       " {'pageid': 38031528, 'title': 'Cross country running shoe'},\n",
       " {'pageid': 19239275, 'title': 'Derby shoe'},\n",
       " {'pageid': 17697723, 'title': 'Diabetic shoe'},\n",
       " {'pageid': 31268247, 'title': 'Dori shoes'},\n",
       " {'pageid': 4014612, 'title': 'Dress shoe'},\n",
       " {'pageid': 1115115, 'title': 'Earth shoe'},\n",
       " {'pageid': 588873, 'title': 'Espadrille'},\n",
       " {'pageid': 33832430, 'title': 'Fuck-me shoes'},\n",
       " {'pageid': 50564213, 'title': 'Funds2Orgs'},\n",
       " {'pageid': 10688145, 'title': 'Galesh'},\n",
       " {'pageid': 21920435, 'title': 'Big Nose George'},\n",
       " {'pageid': 9683069, 'title': 'Giveh'},\n",
       " {'pageid': 3066724, 'title': 'Goodyear welt'},\n",
       " {'pageid': 2070436, 'title': 'High-heeled footwear'},\n",
       " {'pageid': 9344650, 'title': 'Huarache (shoe)'},\n",
       " {'pageid': 24952928, 'title': 'Jazz shoe'},\n",
       " {'pageid': 3540564, 'title': 'Jelly shoes'},\n",
       " {'pageid': 13865585, 'title': 'Jumpsoles'},\n",
       " {'pageid': 2350452, 'title': 'Jutti'},\n",
       " {'pageid': 943169, 'title': 'Kitten heel'},\n",
       " {'pageid': 43270447, 'title': 'Kung fu shoe'},\n",
       " {'pageid': 26867450, 'title': 'Locomotor effects of shoes'},\n",
       " {'pageid': 19686362, 'title': 'Lotus shoes'},\n",
       " {'pageid': 2495501, 'title': 'Mary Jane (shoe)'},\n",
       " {'pageid': 3960865, 'title': 'Moccasin'},\n",
       " {'pageid': 19428160, 'title': 'Monk shoe'},\n",
       " {'pageid': 949952, 'title': 'Mule (shoe)'},\n",
       " {'pageid': 23912768, 'title': 'Nike Air Yeezy'},\n",
       " {'pageid': 19968529, 'title': 'Nike Flywire'},\n",
       " {'pageid': 50389650, 'title': 'Nike Hypervenom'},\n",
       " {'pageid': 39531664, 'title': 'Nike Zoom KD line'},\n",
       " {'pageid': 1427179, 'title': 'Opanak'},\n",
       " {'pageid': 28873240, 'title': 'Opinga'},\n",
       " {'pageid': 1488747, 'title': 'Organ shoes'},\n",
       " {'pageid': 34207142, 'title': 'Over-the-knee boot'},\n",
       " {'pageid': 1317100, 'title': 'Oxford shoe'},\n",
       " {'pageid': 27701073, 'title': 'Pampootie'},\n",
       " {'pageid': 44332838, 'title': 'Pataugas'},\n",
       " {'pageid': 8367350, 'title': 'Peranakan beaded slippers'},\n",
       " {'pageid': 699690, 'title': 'Platform shoe'},\n",
       " {'pageid': 444044, 'title': 'Pointe shoe'},\n",
       " {'pageid': 34360360, 'title': 'Pointed shoe'},\n",
       " {'pageid': 19743622, 'title': 'Pointinini'},\n",
       " {'pageid': 45360784, 'title': 'Reebok Nano'},\n",
       " {'pageid': 27953456, 'title': 'Rocker bottom shoe'},\n",
       " {'pageid': 28080004, 'title': 'Russian boot'},\n",
       " {'pageid': 6737449, 'title': 'Saddle shoe'},\n",
       " {'pageid': 43512313, 'title': 'Shoe hanger'},\n",
       " {'pageid': 33181651, 'title': 'Shoe store'},\n",
       " {'pageid': 42560364, 'title': 'List of shoe styles'},\n",
       " {'pageid': 940322, 'title': 'Shoemaking'},\n",
       " {'pageid': 12860125, 'title': 'Shoeshiner'},\n",
       " {'pageid': 19277881, 'title': 'Silver Shoes'},\n",
       " {'pageid': 303335, 'title': 'Slip-on shoe'},\n",
       " {'pageid': 377864, 'title': 'Slipper'},\n",
       " {'pageid': 467481, 'title': 'Sneakers'},\n",
       " {'pageid': 30795298, 'title': 'Snow boot'},\n",
       " {'pageid': 32860984, 'title': 'Soles4Souls'},\n",
       " {'pageid': 3580975, 'title': 'Spectator shoe'},\n",
       " {'pageid': 332200, 'title': 'Steel-toe boot'},\n",
       " {'pageid': 22289871, 'title': 'T-bar sandal'},\n",
       " {'pageid': 35132297, 'title': 'Tiger-head shoes'},\n",
       " {'pageid': 8912306, 'title': 'Tsarouhi'},\n",
       " {'pageid': 9987462, 'title': 'Turnshoe'},\n",
       " {'pageid': 25470466, 'title': 'Vans Half Cab'},\n",
       " {'pageid': 15579507, 'title': 'Venetian-style shoe'},\n",
       " {'pageid': 48587651, 'title': 'Wholecut'},\n",
       " {'pageid': 1245170, 'title': 'Winklepicker'},\n",
       " {'pageid': 31454236, 'title': 'Worishofer'},\n",
       " {'pageid': 48654609, 'title': \"Wren's Super Wax Shoe Polish\"}]"
      ]
     },
     "execution_count": 42,
     "metadata": {},
     "output_type": "execute_result"
    }
   ],
   "source": [
    "shoes['pages']"
   ]
  },
  {
   "cell_type": "code",
   "execution_count": 81,
   "metadata": {
    "collapsed": false
   },
   "outputs": [
    {
     "name": "stdout",
     "output_type": "stream",
     "text": [
      "Connected to server joshuacook.me.\n",
      "Connected to server joshuacook.me.\n",
      "Connected to server joshuacook.me.\n",
      "Connected to server joshuacook.me.\n",
      "Connected to server joshuacook.me.\n",
      "Connected to server joshuacook.me.\n",
      "Connected to server joshuacook.me.\n",
      "Connected to server joshuacook.me.\n",
      "Connected to server joshuacook.me.\n",
      "Connected to server joshuacook.me.\n",
      "Connected to server joshuacook.me.\n",
      "Connected to server joshuacook.me.\n",
      "Connected to server joshuacook.me.\n",
      "Connected to server joshuacook.me.\n",
      "Connected to server joshuacook.me.\n",
      "Connected to server joshuacook.me.\n",
      "Connected to server joshuacook.me.\n",
      "Connected to server joshuacook.me.\n",
      "Connected to server joshuacook.me.\n",
      "Connected to server joshuacook.me.\n",
      "Connected to server joshuacook.me.\n",
      "Connected to server joshuacook.me.\n",
      "Connected to server joshuacook.me.\n",
      "Connected to server joshuacook.me.\n",
      "Connected to server joshuacook.me.\n",
      "Connected to server joshuacook.me.\n",
      "Connected to server joshuacook.me.\n",
      "Connected to server joshuacook.me.\n",
      "Connected to server joshuacook.me.\n",
      "Connected to server joshuacook.me.\n",
      "Connected to server joshuacook.me.\n",
      "Connected to server joshuacook.me.\n",
      "Connected to server joshuacook.me.\n",
      "Connected to server joshuacook.me.\n",
      "Connected to server joshuacook.me.\n",
      "Connected to server joshuacook.me.\n",
      "Connected to server joshuacook.me.\n",
      "Connected to server joshuacook.me.\n",
      "Connected to server joshuacook.me.\n",
      "Connected to server joshuacook.me.\n",
      "Connected to server joshuacook.me.\n",
      "Connected to server joshuacook.me.\n",
      "Connected to server joshuacook.me.\n",
      "Connected to server joshuacook.me.\n",
      "Connected to server joshuacook.me.\n",
      "Connected to server joshuacook.me.\n",
      "Connected to server joshuacook.me.\n",
      "Connected to server joshuacook.me.\n",
      "Connected to server joshuacook.me.\n",
      "Connected to server joshuacook.me.\n",
      "Connected to server joshuacook.me.\n",
      "Connected to server joshuacook.me.\n",
      "Connected to server joshuacook.me.\n",
      "Connected to server joshuacook.me.\n",
      "Connected to server joshuacook.me.\n",
      "Connected to server joshuacook.me.\n",
      "Connected to server joshuacook.me.\n",
      "Connected to server joshuacook.me.\n",
      "Connected to server joshuacook.me.\n",
      "Connected to server joshuacook.me.\n",
      "Connected to server joshuacook.me.\n",
      "Connected to server joshuacook.me.\n",
      "Connected to server joshuacook.me.\n",
      "Connected to server joshuacook.me.\n",
      "Connected to server joshuacook.me.\n",
      "Connected to server joshuacook.me.\n",
      "Connected to server joshuacook.me.\n",
      "Connected to server joshuacook.me.\n",
      "Connected to server joshuacook.me.\n",
      "Connected to server joshuacook.me.\n",
      "Connected to server joshuacook.me.\n",
      "Connected to server joshuacook.me.\n",
      "Connected to server joshuacook.me.\n",
      "Connected to server joshuacook.me.\n",
      "Connected to server joshuacook.me.\n",
      "Connected to server joshuacook.me.\n",
      "Connected to server joshuacook.me.\n",
      "Connected to server joshuacook.me.\n",
      "Connected to server joshuacook.me.\n",
      "Connected to server joshuacook.me.\n",
      "Connected to server joshuacook.me.\n",
      "Connected to server joshuacook.me.\n",
      "Connected to server joshuacook.me.\n",
      "Connected to server joshuacook.me.\n",
      "Connected to server joshuacook.me.\n",
      "Connected to server joshuacook.me.\n",
      "Connected to server joshuacook.me.\n",
      "Connected to server joshuacook.me.\n",
      "Connected to server joshuacook.me.\n",
      "Connected to server joshuacook.me.\n",
      "Connected to server joshuacook.me.\n",
      "Connected to server joshuacook.me.\n"
     ]
    }
   ],
   "source": [
    "for s in enumerate(shoes['pages']):\n",
    "    page_text = wiki.query_page(str(s[1]['pageid']))\n",
    "    page_title = s[1]['title']\n",
    "    page_id = s[1]['pageid']\n",
    "    db.create_or_update_page_in_database(page_id,2835113,page_title,page_text, location='remote_dev')"
   ]
  },
  {
   "cell_type": "code",
   "execution_count": 61,
   "metadata": {
    "collapsed": false
   },
   "outputs": [
    {
     "data": {
      "text/plain": [
       "48654609"
      ]
     },
     "execution_count": 61,
     "metadata": {},
     "output_type": "execute_result"
    }
   ],
   "source": [
    "page_id"
   ]
  },
  {
   "cell_type": "code",
   "execution_count": 49,
   "metadata": {
    "collapsed": false
   },
   "outputs": [],
   "source": [
    "page_response = wiki.query_page('48654609')\n",
    "pg = page_response['text']"
   ]
  },
  {
   "cell_type": "code",
   "execution_count": 50,
   "metadata": {
    "collapsed": false
   },
   "outputs": [
    {
     "data": {
      "text/plain": [
       "u'Wrens is the brand name of a British shoe polish, first launched, produced and sold in England in 1889. It is one of the few remaining shoe polish brands to exist through three centuries. The founder of the brand was William Edward Wren. Early history (late 19th century) The companys name was initially William Wren & Co but was given as Wm. Wren & Co Ltd by 1918. In a list compiled under the name \"NORTHAMPTON BOOT & SHOE TRADE 1928\" by Elaine Allen, the companys name was listed as Wren, William & Co. Ltd. in three different addresses in Northamptonshire. Business was brisk from the start as Northamptonshire, even now, is home to many fine shoe and boot makers, such as Edward Green, Loake Shoemakers, Churchs and Trickers. Wrens became known for its quality and prestige and won its first award from the Leather Trades Exhibition in 1892. In those days, the Leather Trades Exhibition held in the centre of Britain\\u2019s boot-making industry Northampton was a very prestigious event and was of significant importance to the trade. William Wren & Co Ltd soon branched into other products like Floor & Furniture Polish, Metal Polish, Saddle & Harness Paste, Puwite Shoe Whitener as well as the reputed Lavendo Furniture Polish in the early years Golden years (1908-1964) From beginning of the 20th century, Wrens became almost synonymous with the Royal Family in England. During the reign of King Edward VII, a Wrens advertisement for its Boot & Shoe Polish in 1908 appeared with the declaration \\u201cAs used by all branches of His Majesty\\u2019s Service\\u201d. The words \"Made In England Since 1889\" also became synonymous with the brand. Wrens reputation reached its peak when King George VI emulated his grandfather by awarding the Royal Warrant to Wrens despite the acquisition by Chiswick Polish Co., Ltd in 1938. All shoe and boot polish would have \"By appointment to H. M. King George VI\" on the lids. The product became known as Wrens Super Wax Shoe Polish. Wrens Shoe Polish was very likely used by the British Army during World War II but this was never confirmed. George VI died in 1952 due to ill health and was succeeded by Elizabeth II. There was a version of the shoe polish with the Royal Warrant \"By appointment to the late H. M. King George VI\", very likely as a gesture of mourning for a great King. Declining years The Royal Warrant continued until around 1964, when Wrens merged with Meltonian to form Meltonian Wren Limited. The company name appeared on the lid of the transparent shoe polish \"By appointment to H. M. The Queen, Mfrs. of shoe polish Meltonian Wren Ltd\". The discontinuation of the Royal Warrant was most likely due to the uncertainties caused by the successive acquisitions taking place in such a short period. After further acquisition by Reckitt & Colman Ltd, the brand went on a downward spiral until the 21st century. Wrens has been active on social media since 2014. References'"
      ]
     },
     "execution_count": 50,
     "metadata": {},
     "output_type": "execute_result"
    }
   ],
   "source": [
    "pg"
   ]
  },
  {
   "cell_type": "code",
   "execution_count": 29,
   "metadata": {
    "collapsed": false
   },
   "outputs": [
    {
     "data": {
      "text/plain": [
       "['pageid', 'summary', 'text', 'html']"
      ]
     },
     "execution_count": 29,
     "metadata": {},
     "output_type": "execute_result"
    }
   ],
   "source": [
    "page_response.keys()"
   ]
  },
  {
   "cell_type": "code",
   "execution_count": null,
   "metadata": {
    "collapsed": false
   },
   "outputs": [],
   "source": [
    "db.create_or_update_page_in_database()"
   ]
  },
  {
   "cell_type": "markdown",
   "metadata": {},
   "source": [
    "### Parse: Encode page as document vectors"
   ]
  },
  {
   "cell_type": "code",
   "execution_count": null,
   "metadata": {
    "collapsed": true
   },
   "outputs": [],
   "source": [
    "enc.get_page_vector()"
   ]
  },
  {
   "cell_type": "markdown",
   "metadata": {},
   "source": [
    "### Acquire: Write page content to database"
   ]
  },
  {
   "cell_type": "code",
   "execution_count": null,
   "metadata": {
    "collapsed": true
   },
   "outputs": [],
   "source": []
  },
  {
   "cell_type": "code",
   "execution_count": null,
   "metadata": {
    "collapsed": true
   },
   "outputs": [],
   "source": []
  },
  {
   "cell_type": "markdown",
   "metadata": {},
   "source": [
    "### BONUS: \n",
    "#### Identify: Provide a detailed analysis of the database schema in your report"
   ]
  },
  {
   "cell_type": "code",
   "execution_count": null,
   "metadata": {
    "collapsed": true
   },
   "outputs": [],
   "source": []
  },
  {
   "cell_type": "markdown",
   "metadata": {},
   "source": [
    "### BONUS: \n",
    "#### Identify: Provide a detailed analysis of the document encoding methods being used in your report"
   ]
  },
  {
   "cell_type": "code",
   "execution_count": null,
   "metadata": {
    "collapsed": true
   },
   "outputs": [],
   "source": []
  }
 ],
 "metadata": {
  "anaconda-cloud": {},
  "kernelspec": {
   "display_name": "Python [conda env:py27]",
   "language": "python",
   "name": "conda-env-py27-py"
  },
  "language_info": {
   "codemirror_mode": {
    "name": "ipython",
    "version": 2
   },
   "file_extension": ".py",
   "mimetype": "text/x-python",
   "name": "python",
   "nbconvert_exporter": "python",
   "pygments_lexer": "ipython2",
   "version": "2.7.12"
  }
 },
 "nbformat": 4,
 "nbformat_minor": 1
}
